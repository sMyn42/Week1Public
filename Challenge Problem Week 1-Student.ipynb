{
 "cells": [
  {
   "cell_type": "markdown",
   "metadata": {
    "colab_type": "text",
    "id": "HJlaA4-1Q6q1"
   },
   "source": [
    "# Challenge Problem Week 1"
   ]
  },
  {
   "cell_type": "markdown",
   "metadata": {
    "colab_type": "text",
    "id": "TjQPxXEuQ6q5"
   },
   "source": [
    "Hepatitis B (HEP B) is a liver infection caused by the hepatitis B virus (HBV). The infection causes inflammation of the liver and if not properly treated, the virus can lead to liver disease such as cirrhosis or liver cancer. \n",
    "HEP B is the most primary causes of liver cancer, the one of the leading cause of cancer deaths in the world, therfore making it a major global health problem. HEP B is up to 100 times more infectious than the HIV/AIDS virus. Two billion people (1 in 3) have been infected and more than 292 million people are living with a chronic hepatitis B infection. Although HEP B is treatable and preventable about 884,000 people die each year.\n",
    "\n",
    "The virus is transmitted through the blood and infected bodily fluids. It can be passed to others through direct contact with blood, unprotected sex, use of illegal drugs, unsterilized or contaminated needles, and from an infected woman to her newborn during pregnancy or childbirth. Most people do not show symptoms and the only way to know you are infected is by getting tested.\n",
    "\n",
    "![hepb](https://images.onhealth.com/images/slideshow/hepatitis-s1-liver-hepatitis-virus.jpg)\n",
    "\n",
    "**Goal**: Use the NHANES data set to predict whether a patient has HEP B or not. We want to determine which attributes are the most meaningful to the predictive models. We want to create a balanced model that can predict with a high sensitivity and high specificity while using the **least amount of features**. Essentially is there a way to identify the population of those infected without testing them? \n",
    "\n",
    "Source: https://www.hepb.org/what-is-hepatitis-b/what-is-hepb/ "
   ]
  },
  {
   "cell_type": "markdown",
   "metadata": {
    "colab_type": "text",
    "id": "IMkuiSM1Q6q7"
   },
   "source": [
    "# National Health and Nutrition Examination Survey NHANES \n",
    "To investigate our research problem we will be using the NHANES database. NHANES is a program of studies designed to assess the health and nutritional status of adults and children in the United States. The survey is unique in that it combines interviews and physical examinations. The survey examines a nationally representative sample of about 5,000 persons each year. These persons are located in counties across the country, 15 of which are visited each year. The NHANES interview includes demographic, socioeconomic, dietary, and health-related questions. The examination component consists of medical, dental, and physiological measurements, as well as laboratory tests administered by highly trained medical personnel.\n",
    "\n",
    "Source: Centers for Disease Control and Prevention (CDC). National Center for Health Statistics (NCHS). National Health and Nutrition Examination Survey Data. Hyattsville, MD: U.S. Department of Health and Human Services, Centers for Disease Control and Prevention, [2019][https://www.cdc.gov/nchs/nhanes/about_nhanes.htm#data]."
   ]
  },
  {
   "cell_type": "markdown",
   "metadata": {
    "colab_type": "text",
    "id": "7mJEYCvNQ6q9"
   },
   "source": [
    "Below are some general steps to begin analyzing this problem. Apply the new material you learned in class and have fun! (:\n",
    "\n",
    "1. Import the data  \n",
    "2. Decide what variables are most relevant  \n",
    "3. Summary statistics of the data  \n",
    "4. Data Cleaning (Important!) Note this may a tedious process  \n",
    "a. Missing data  \n",
    "b. Transform/Normalize data  \n",
    "4. Data Visualization  \n",
    "5. Data analysis  \n",
    "a. Create dummy variables  \n",
    "b. Create training and test sets  \n",
    "c. Statistical methodology  \n",
    "6. Scoring metrics  \n",
    "confusion matrix, roc curve  \n"
   ]
  },
  {
   "cell_type": "code",
   "execution_count": 1,
   "metadata": {
    "colab": {},
    "colab_type": "code",
    "id": "t_VDuXGSQ6q-"
   },
   "outputs": [],
   "source": [
    "#import needed libraries\n",
    "import pandas as pd\n",
    "import numpy as np\n",
    "import matplotlib.pyplot as plt\n",
    "import math\n",
    "import seaborn as sns\n",
    "import time"
   ]
  },
  {
   "cell_type": "markdown",
   "metadata": {
    "colab_type": "text",
    "id": "giyB_yIeQ6rC"
   },
   "source": [
    "## Import data\n",
    "Read in the data set and look at the first ten lines"
   ]
  },
  {
   "cell_type": "code",
   "execution_count": 2,
   "metadata": {
    "colab": {},
    "colab_type": "code",
    "id": "txtC4RJAQ6rE"
   },
   "outputs": [
    {
     "data": {
      "text/plain": [
       "17.501070022583008"
      ]
     },
     "execution_count": 2,
     "metadata": {},
     "output_type": "execute_result"
    }
   ],
   "source": [
    "#import data\n",
    "time1 = time.time()\n",
    "data = pd.read_csv('bigData.csv', usecols=['RIDAGEYR', 'LBXHBC', 'IND235', 'LBDHI', 'LBXHIVC', \"ALQ130\", \"RIDRETH1\", \"RIAGENDR\", \"MCQ203\"])\n",
    "\n",
    "'USED VARIABLES'\n",
    "# Major Variable\n",
    "# --------\n",
    "# Jaundice         MCQ203            \n",
    "#---------\n",
    "# Income           IND235                    *****************\n",
    "#---------\n",
    "# HEP B Antigen    LBXHBC                    **********************\n",
    "#---------\n",
    "# Main HIV Test    LBDHI, LBXHIVC            ********************\n",
    "#---------\n",
    "# Alcohol          ALQ130                    ***********************\n",
    "#---------\n",
    "# Age              RIDAGEYR                  ******************\n",
    "#--------- \n",
    "# Ethnicity        RIDRETH1                  ************************                      \n",
    "#---------\n",
    "# Liver Cancer (Conf.)    MCQ240M -- trivial only 36 instances FUCK THIS>>>\n",
    "#---------  \n",
    "\n",
    "\n",
    "'VETOED VARIABLES'\n",
    "# Fatigue??, Vomiting??, Joint Pain??, Ab Pain??, Dark Urine??, HIV, Hep C?? HIV::LBDHI, LBXCD4, LBXCD8, LBXHIVC    \n",
    "# Others???\n",
    "\n",
    "\n",
    "time.time() - time1"
   ]
  },
  {
   "cell_type": "code",
   "execution_count": 3,
   "metadata": {},
   "outputs": [],
   "source": [
    "data = data.rename(index = str, columns = {\"LBXHBC\": \"Hepb\", \"LBDHI\": \"Hiv\",\"LBXHIVC\":\"Hiv2\", \"IND235\":\"Income\", \"MCQ203\":\"Jaundice\", \"RIAGENDR\":\"Sex\", \"RIDAGEYR\":\"Age\", \"ALQ130\":\"Alcohol\", \"RIDRETH1\":\"Ethnicity\"})"
   ]
  },
  {
   "cell_type": "code",
   "execution_count": 4,
   "metadata": {
    "colab": {
     "base_uri": "https://localhost:8080/",
     "height": 193
    },
    "colab_type": "code",
    "id": "n7ok46j0RRog",
    "outputId": "f6042c8c-050e-4a8b-e8f7-0a17fbe15083"
   },
   "outputs": [],
   "source": [
    "#Remember to Recode names and remap values\n",
    "data2 = data.copy()\n",
    "#data2['Hepb'] = data['Hepb'].map({2.0 : 0.0, 1.0 : 1.0})\n",
    "#data2['Hiv2'] = data['Hiv2'].map({2.0 : 0.0, 1.0 : 1.0, 3.0 : 0.0})\n",
    "#data2['Hiv'] = data['Hiv'].map({2.0 : 0.0, 1.0 : 1.0, 3.0 : 0.0})\n",
    "data2.loc[data2[\"Alcohol\"] > 30, \"Alcohol\"] = math.nan\n",
    "data2.loc[data2[\"Income\"] > 15, \"Income\"] = math.nan\n"
   ]
  },
  {
   "cell_type": "code",
   "execution_count": 5,
   "metadata": {},
   "outputs": [
    {
     "data": {
      "text/plain": [
       "<matplotlib.axes._subplots.AxesSubplot at 0x2529d8e21d0>"
      ]
     },
     "execution_count": 5,
     "metadata": {},
     "output_type": "execute_result"
    },
    {
     "data": {
      "image/png": "[encoded data removed]",
      "text/plain": [
       "<Figure size 1728x864 with 1 Axes>"
      ]
     },
     "metadata": {
      "needs_background": "light"
     },
     "output_type": "display_data"
    }
   ],
   "source": [
    "plt.figure(1, figsize=(24, 12))\n",
    "sns.distplot(data2['Age'])"
   ]
  },
  {
   "cell_type": "code",
   "execution_count": null,
   "metadata": {
    "colab": {
     "base_uri": "https://localhost:8080/",
     "height": 180
    },
    "colab_type": "code",
    "id": "AV-kFZ9eQ6rH",
    "outputId": "e7455936-d2f2-487f-83b5-4ba9da47a3af"
   },
   "outputs": [],
   "source": [
    "#dropping unnecessary variables (don't worry about this)\n",
    "data = dataset[data.columns.drop(list(data.filter(regex='WT')))]\n",
    "data = dataset[data.columns.drop(list(data.filter(regex='SDM')))]"
   ]
  },
  {
   "cell_type": "markdown",
   "metadata": {
    "colab_type": "text",
    "id": "pMQlv34tQ6rM"
   },
   "source": [
    "Awesome, looks like the data loaded in properly. Let's continue by looking at variables that may be predictive of hepatitis B. For beginners, I would suggest conducting a literature review on previous research of hepatitis B."
   ]
  },
  {
   "cell_type": "markdown",
   "metadata": {
    "colab_type": "text",
    "id": "9R_fReGRQ6rN"
   },
   "source": [
    "## Select Features of Interest\n",
    "Once you have selected some variables in the NHANES data set only looking at what you are interested in. It is in your best interest to rename the variables."
   ]
  },
  {
   "cell_type": "markdown",
   "metadata": {
    "colab": {},
    "colab_type": "code",
    "id": "PixvFpLGQ6rO"
   },
   "source": [
    "# Write your code here\n",
    "\n",
    "# create a subset of the data you want to analyze\n",
    "\n",
    "# rename the variables\n",
    "\n",
    "# DONE ABOVE"
   ]
  },
  {
   "cell_type": "markdown",
   "metadata": {
    "colab_type": "text",
    "id": "EgBfUbAaQ6rR"
   },
   "source": [
    "Remember the goal is to create a balanced model that can predict with a high sensitivity and high specificity while using the **least amount of features**. Next, we will look at some summary statistics of the variables you chose."
   ]
  },
  {
   "cell_type": "markdown",
   "metadata": {
    "colab_type": "text",
    "id": "zekCYBu_Q6rS"
   },
   "source": [
    "## View summary statistics\n",
    "Some useful functions in pandas are describe() and info()"
   ]
  },
  {
   "cell_type": "markdown",
   "metadata": {},
   "source": [
    "# Initialize \"Data\" from Data2"
   ]
  },
  {
   "cell_type": "code",
   "execution_count": 109,
   "metadata": {
    "colab": {},
    "colab_type": "code",
    "id": "1o8Aaj3QQ6rT"
   },
   "outputs": [
    {
     "data": {
      "text/html": [
       "<div>\n",
       "<style scoped>\n",
       "    .dataframe tbody tr th:only-of-type {\n",
       "        vertical-align: middle;\n",
       "    }\n",
       "\n",
       "    .dataframe tbody tr th {\n",
       "        vertical-align: top;\n",
       "    }\n",
       "\n",
       "    .dataframe thead th {\n",
       "        text-align: right;\n",
       "    }\n",
       "</style>\n",
       "<table border=\"1\" class=\"dataframe\">\n",
       "  <thead>\n",
       "    <tr style=\"text-align: right;\">\n",
       "      <th></th>\n",
       "      <th>Sex</th>\n",
       "      <th>Age</th>\n",
       "      <th>Ethnicity</th>\n",
       "      <th>Hiv</th>\n",
       "      <th>Hepb</th>\n",
       "      <th>Alcohol</th>\n",
       "      <th>Income</th>\n",
       "    </tr>\n",
       "  </thead>\n",
       "  <tbody>\n",
       "    <tr>\n",
       "      <th>count</th>\n",
       "      <td>92062.000000</td>\n",
       "      <td>92062.000000</td>\n",
       "      <td>92062.000000</td>\n",
       "      <td>26306.000000</td>\n",
       "      <td>66990.000000</td>\n",
       "      <td>24810.000000</td>\n",
       "      <td>44304.000000</td>\n",
       "    </tr>\n",
       "    <tr>\n",
       "      <th>mean</th>\n",
       "      <td>1.507549</td>\n",
       "      <td>30.806044</td>\n",
       "      <td>2.861843</td>\n",
       "      <td>1.995248</td>\n",
       "      <td>1.948485</td>\n",
       "      <td>2.853124</td>\n",
       "      <td>6.590263</td>\n",
       "    </tr>\n",
       "    <tr>\n",
       "      <th>std</th>\n",
       "      <td>0.499946</td>\n",
       "      <td>24.863665</td>\n",
       "      <td>1.243502</td>\n",
       "      <td>0.076117</td>\n",
       "      <td>0.221048</td>\n",
       "      <td>2.644942</td>\n",
       "      <td>3.250252</td>\n",
       "    </tr>\n",
       "    <tr>\n",
       "      <th>min</th>\n",
       "      <td>1.000000</td>\n",
       "      <td>0.000000</td>\n",
       "      <td>1.000000</td>\n",
       "      <td>1.000000</td>\n",
       "      <td>1.000000</td>\n",
       "      <td>1.000000</td>\n",
       "      <td>1.000000</td>\n",
       "    </tr>\n",
       "    <tr>\n",
       "      <th>25%</th>\n",
       "      <td>1.000000</td>\n",
       "      <td>10.000000</td>\n",
       "      <td>2.000000</td>\n",
       "      <td>2.000000</td>\n",
       "      <td>2.000000</td>\n",
       "      <td>1.000000</td>\n",
       "      <td>4.000000</td>\n",
       "    </tr>\n",
       "    <tr>\n",
       "      <th>50%</th>\n",
       "      <td>2.000000</td>\n",
       "      <td>23.000000</td>\n",
       "      <td>3.000000</td>\n",
       "      <td>2.000000</td>\n",
       "      <td>2.000000</td>\n",
       "      <td>2.000000</td>\n",
       "      <td>6.000000</td>\n",
       "    </tr>\n",
       "    <tr>\n",
       "      <th>75%</th>\n",
       "      <td>2.000000</td>\n",
       "      <td>51.000000</td>\n",
       "      <td>4.000000</td>\n",
       "      <td>2.000000</td>\n",
       "      <td>2.000000</td>\n",
       "      <td>3.000000</td>\n",
       "      <td>9.000000</td>\n",
       "    </tr>\n",
       "    <tr>\n",
       "      <th>max</th>\n",
       "      <td>2.000000</td>\n",
       "      <td>85.000000</td>\n",
       "      <td>5.000000</td>\n",
       "      <td>3.000000</td>\n",
       "      <td>2.000000</td>\n",
       "      <td>30.000000</td>\n",
       "      <td>12.000000</td>\n",
       "    </tr>\n",
       "  </tbody>\n",
       "</table>\n",
       "</div>"
      ],
      "text/plain": [
       "                Sex           Age     Ethnicity           Hiv          Hepb  \\\n",
       "count  92062.000000  92062.000000  92062.000000  26306.000000  66990.000000   \n",
       "mean       1.507549     30.806044      2.861843      1.995248      1.948485   \n",
       "std        0.499946     24.863665      1.243502      0.076117      0.221048   \n",
       "min        1.000000      0.000000      1.000000      1.000000      1.000000   \n",
       "25%        1.000000     10.000000      2.000000      2.000000      2.000000   \n",
       "50%        2.000000     23.000000      3.000000      2.000000      2.000000   \n",
       "75%        2.000000     51.000000      4.000000      2.000000      2.000000   \n",
       "max        2.000000     85.000000      5.000000      3.000000      2.000000   \n",
       "\n",
       "            Alcohol        Income  \n",
       "count  24810.000000  44304.000000  \n",
       "mean       2.853124      6.590263  \n",
       "std        2.644942      3.250252  \n",
       "min        1.000000      1.000000  \n",
       "25%        1.000000      4.000000  \n",
       "50%        2.000000      6.000000  \n",
       "75%        3.000000      9.000000  \n",
       "max       30.000000     12.000000  "
      ]
     },
     "execution_count": 109,
     "metadata": {},
     "output_type": "execute_result"
    }
   ],
   "source": [
    "# Write your code here\n",
    "data = data2[[\"Sex\", \"Age\", \"Ethnicity\", \"Hiv\", \"Hepb\", \"Alcohol\", \"Income\"]].copy() #UNUSED = Income, \n",
    "\n",
    "data.describe()"
   ]
  },
  {
   "cell_type": "markdown",
   "metadata": {
    "colab_type": "text",
    "id": "8q0nrtyzQ6rW"
   },
   "source": [
    "Note the data types are float64, int64 or objects--if there are columns that are obviously numeric like Age but show as objects (or vice versa), we need to change."
   ]
  },
  {
   "cell_type": "markdown",
   "metadata": {
    "colab_type": "text",
    "id": "1OWJ3D9DQ6rY"
   },
   "source": [
    "## Data Cleaning\n",
    "\n",
    "Ensure that numeric and categorical variables are coded correctly (turn numeric from strings to numbers)."
   ]
  },
  {
   "cell_type": "code",
   "execution_count": 110,
   "metadata": {
    "colab": {},
    "colab_type": "code",
    "id": "8F8REAjTQ6rZ"
   },
   "outputs": [
    {
     "name": "stdout",
     "output_type": "stream",
     "text": [
      "Numerical Columns:  ['Age', 'Alcohol', 'Income']\n",
      "Categorical Columns:  ['Hepb', 'Sex', 'Hiv', 'Ethnicity']\n"
     ]
    }
   ],
   "source": [
    "# Write your code here\n",
    "\n",
    "# identify columns by what type of data they hold --first numeric columns\n",
    "numeric_columns = list([\"Age\", \"Alcohol\", \"Income\"])\n",
    "\n",
    "# categorical columns are everything else \n",
    "categorical_columns = list(set(data.columns) - set(numeric_columns))\n",
    "\n",
    "\n",
    "# convert numeric columns from strings to numbers\n",
    "data[numeric_columns] = data[numeric_columns].apply(pd.to_numeric)\n",
    "\n",
    "# print statement for sanity check\n",
    "print('Numerical Columns: ', numeric_columns)\n",
    "print('Categorical Columns: ', categorical_columns)\n"
   ]
  },
  {
   "cell_type": "markdown",
   "metadata": {
    "colab_type": "text",
    "id": "RfOJQNAyQ6rg"
   },
   "source": [
    "Notice the counts for the columns are different because of missing values therefore you will have to figure out how to remediate that issue..some suggestions are found in https://scikit-learn.org/stable/modules/impute.html#impute"
   ]
  },
  {
   "cell_type": "code",
   "execution_count": 111,
   "metadata": {
    "colab": {},
    "colab_type": "code",
    "id": "p2BUhx_tQ6rh"
   },
   "outputs": [],
   "source": [
    "# Write your code here\n",
    "\n",
    "# remove, impute, some remedial procedure for NAs \n",
    "data = data.dropna()\n",
    "\n",
    "#              # Take the log of Age --------------------------------------------- NOT IN USE\n",
    "#              data['Agelog'] = np.log(data['Age'])\n",
    "\n",
    "#              # Combine HIV columns --------------------------------------------- NOT IN USE\n",
    "#              takeval = lambda a, b: a if a != math.nan else b\n",
    "#              data['Hiv'] = data['Hiv'].combine(data['Hiv2'], takeval) \n",
    "\n",
    "# Normalize Age and Alcohol Consumption\n",
    "from sklearn.preprocessing import StandardScaler\n",
    "scaler = StandardScaler()\n",
    "\n",
    "norm_data = data.Age.values.reshape(-1, 1)\n",
    "scaler.fit(norm_data)\n",
    "data['nAge'] = scaler.transform(norm_data)\n",
    "\n",
    "scaler2 = StandardScaler()\n",
    "\n",
    "norm_data = data.Alcohol.values.reshape(-1, 1)\n",
    "scaler2.fit(norm_data)\n",
    "data['nAlcohol'] = scaler.transform(norm_data)\n",
    "\n",
    "scaler3 = StandardScaler()\n",
    "\n",
    "norm_data = data.Income.values.reshape(-1, 1)\n",
    "scaler3.fit(norm_data)\n",
    "data['nIncome'] = scaler.transform(norm_data)\n",
    "\n",
    "data = data.drop(['Age', \"Alcohol\", \"Income\"], axis=1)"
   ]
  },
  {
   "cell_type": "markdown",
   "metadata": {
    "colab_type": "text",
    "id": "rKUYamrbQ6rk"
   },
   "source": [
    "Lastly, we will convert HEP B into indicator variables"
   ]
  },
  {
   "cell_type": "code",
   "execution_count": 112,
   "metadata": {
    "colab": {},
    "colab_type": "code",
    "id": "MAH-17IgQ6rn"
   },
   "outputs": [
    {
     "data": {
      "text/html": [
       "<div>\n",
       "<style scoped>\n",
       "    .dataframe tbody tr th:only-of-type {\n",
       "        vertical-align: middle;\n",
       "    }\n",
       "\n",
       "    .dataframe tbody tr th {\n",
       "        vertical-align: top;\n",
       "    }\n",
       "\n",
       "    .dataframe thead th {\n",
       "        text-align: right;\n",
       "    }\n",
       "</style>\n",
       "<table border=\"1\" class=\"dataframe\">\n",
       "  <thead>\n",
       "    <tr style=\"text-align: right;\">\n",
       "      <th></th>\n",
       "      <th>Sex</th>\n",
       "      <th>Ethnicity</th>\n",
       "      <th>Hiv</th>\n",
       "      <th>Hepb</th>\n",
       "      <th>nAge</th>\n",
       "      <th>nAlcohol</th>\n",
       "      <th>nIncome</th>\n",
       "    </tr>\n",
       "  </thead>\n",
       "  <tbody>\n",
       "    <tr>\n",
       "      <th>count</th>\n",
       "      <td>5981.000000</td>\n",
       "      <td>5981.000000</td>\n",
       "      <td>5981.000000</td>\n",
       "      <td>5981.000000</td>\n",
       "      <td>5.981000e+03</td>\n",
       "      <td>5981.000000</td>\n",
       "      <td>5981.000000</td>\n",
       "    </tr>\n",
       "    <tr>\n",
       "      <th>mean</th>\n",
       "      <td>0.470155</td>\n",
       "      <td>2.946832</td>\n",
       "      <td>0.993479</td>\n",
       "      <td>0.951848</td>\n",
       "      <td>3.145415e-17</td>\n",
       "      <td>-3.007570</td>\n",
       "      <td>-2.704634</td>\n",
       "    </tr>\n",
       "    <tr>\n",
       "      <th>std</th>\n",
       "      <td>0.499150</td>\n",
       "      <td>1.127869</td>\n",
       "      <td>0.080494</td>\n",
       "      <td>0.214106</td>\n",
       "      <td>1.000084e+00</td>\n",
       "      <td>0.267645</td>\n",
       "      <td>0.304065</td>\n",
       "    </tr>\n",
       "    <tr>\n",
       "      <th>min</th>\n",
       "      <td>0.000000</td>\n",
       "      <td>1.000000</td>\n",
       "      <td>0.000000</td>\n",
       "      <td>0.000000</td>\n",
       "      <td>-1.685206e+00</td>\n",
       "      <td>-3.217550</td>\n",
       "      <td>-3.217550</td>\n",
       "    </tr>\n",
       "    <tr>\n",
       "      <th>25%</th>\n",
       "      <td>0.000000</td>\n",
       "      <td>2.000000</td>\n",
       "      <td>1.000000</td>\n",
       "      <td>1.000000</td>\n",
       "      <td>-8.739652e-01</td>\n",
       "      <td>-3.217550</td>\n",
       "      <td>-2.947136</td>\n",
       "    </tr>\n",
       "    <tr>\n",
       "      <th>50%</th>\n",
       "      <td>0.000000</td>\n",
       "      <td>3.000000</td>\n",
       "      <td>1.000000</td>\n",
       "      <td>1.000000</td>\n",
       "      <td>-6.272427e-02</td>\n",
       "      <td>-3.127412</td>\n",
       "      <td>-2.676723</td>\n",
       "    </tr>\n",
       "    <tr>\n",
       "      <th>75%</th>\n",
       "      <td>1.000000</td>\n",
       "      <td>4.000000</td>\n",
       "      <td>1.000000</td>\n",
       "      <td>1.000000</td>\n",
       "      <td>8.386545e-01</td>\n",
       "      <td>-2.947136</td>\n",
       "      <td>-2.406309</td>\n",
       "    </tr>\n",
       "    <tr>\n",
       "      <th>max</th>\n",
       "      <td>1.000000</td>\n",
       "      <td>5.000000</td>\n",
       "      <td>1.000000</td>\n",
       "      <td>1.000000</td>\n",
       "      <td>2.010447e+00</td>\n",
       "      <td>-0.603552</td>\n",
       "      <td>-2.226033</td>\n",
       "    </tr>\n",
       "  </tbody>\n",
       "</table>\n",
       "</div>"
      ],
      "text/plain": [
       "               Sex    Ethnicity          Hiv         Hepb          nAge  \\\n",
       "count  5981.000000  5981.000000  5981.000000  5981.000000  5.981000e+03   \n",
       "mean      0.470155     2.946832     0.993479     0.951848  3.145415e-17   \n",
       "std       0.499150     1.127869     0.080494     0.214106  1.000084e+00   \n",
       "min       0.000000     1.000000     0.000000     0.000000 -1.685206e+00   \n",
       "25%       0.000000     2.000000     1.000000     1.000000 -8.739652e-01   \n",
       "50%       0.000000     3.000000     1.000000     1.000000 -6.272427e-02   \n",
       "75%       1.000000     4.000000     1.000000     1.000000  8.386545e-01   \n",
       "max       1.000000     5.000000     1.000000     1.000000  2.010447e+00   \n",
       "\n",
       "          nAlcohol      nIncome  \n",
       "count  5981.000000  5981.000000  \n",
       "mean     -3.007570    -2.704634  \n",
       "std       0.267645     0.304065  \n",
       "min      -3.217550    -3.217550  \n",
       "25%      -3.217550    -2.947136  \n",
       "50%      -3.127412    -2.676723  \n",
       "75%      -2.947136    -2.406309  \n",
       "max      -0.603552    -2.226033  "
      ]
     },
     "execution_count": 112,
     "metadata": {},
     "output_type": "execute_result"
    }
   ],
   "source": [
    "#Turn Categorical Vars into Indicators -- Sex, HIV, HEPB.\n",
    "data['Hepb'] = pd.get_dummies(data['Hepb'], drop_first = True)\n",
    "data['Sex'] = pd.get_dummies(data['Sex'], drop_first = True)\n",
    "data['Hiv'] = pd.get_dummies(data['Hiv'], drop_first = True)\n",
    "\n",
    "\n",
    "data.describe()"
   ]
  },
  {
   "cell_type": "markdown",
   "metadata": {
    "colab_type": "text",
    "id": "3JFBXM6FQ6rq"
   },
   "source": [
    "## Data Analysis and Visualization\n",
    "\n",
    "Take a look at your data. I would suggest doing univariate, bivariate, and multi-variate analysis of most if not all the features you chose."
   ]
  },
  {
   "cell_type": "code",
   "execution_count": 113,
   "metadata": {
    "colab": {},
    "colab_type": "code",
    "id": "qkPqOHMHQ6rw"
   },
   "outputs": [
    {
     "data": {
      "text/plain": [
       "[Text(0, 0, 'Postive'), Text(0, 0, 'Negative')]"
      ]
     },
     "execution_count": 113,
     "metadata": {},
     "output_type": "execute_result"
    },
    {
     "data": {
      "image/png": "[encoded data removed]",
      "text/plain": [
       "<Figure size 432x288 with 1 Axes>"
      ]
     },
     "metadata": {
      "needs_background": "light"
     },
     "output_type": "display_data"
    }
   ],
   "source": [
    "# Write your code here\n",
    "# univariate and bivariate description analysis \n",
    "hepb = sns.countplot(x='Hepb', data = data)\n",
    "hepb.set_xticklabels(labels=['Postive', 'Negative'])"
   ]
  },
  {
   "cell_type": "code",
   "execution_count": 24,
   "metadata": {},
   "outputs": [
    {
     "data": {
      "text/plain": [
       "[Text(0, 0, 'Postive'), Text(0, 0, 'Negative')]"
      ]
     },
     "execution_count": 24,
     "metadata": {},
     "output_type": "execute_result"
    },
    {
     "data": {
      "image/png": "[encoded data removed]",
      "text/plain": [
       "<Figure size 432x288 with 1 Axes>"
      ]
     },
     "metadata": {
      "needs_background": "light"
     },
     "output_type": "display_data"
    }
   ],
   "source": [
    "# univariate and bivariate description analysis \n",
    "hepb = sns.countplot(x='Hiv', data = data)\n",
    "hepb.set_xticklabels(labels=['Postive', 'Negative'])"
   ]
  },
  {
   "cell_type": "code",
   "execution_count": 12,
   "metadata": {},
   "outputs": [
    {
     "data": {
      "text/plain": [
       "[Text(0, 0, 'Male'), Text(0, 0, 'Female')]"
      ]
     },
     "execution_count": 12,
     "metadata": {},
     "output_type": "execute_result"
    },
    {
     "data": {
      "image/png": "[encoded data removed]",
      "text/plain": [
       "<Figure size 432x288 with 1 Axes>"
      ]
     },
     "metadata": {
      "needs_background": "light"
     },
     "output_type": "display_data"
    }
   ],
   "source": [
    "gend = sns.countplot(x='Sex', data = data)\n",
    "gend.set_xticklabels(labels=['Male', 'Female'])"
   ]
  },
  {
   "cell_type": "code",
   "execution_count": 15,
   "metadata": {},
   "outputs": [
    {
     "data": {
      "text/plain": [
       "[Text(0, 0, 'Mexican American'),\n",
       " Text(0, 0, 'Other Hispanic'),\n",
       " Text(0, 0, 'Non-Hispanic White'),\n",
       " Text(0, 0, 'Non-Hispanic Black'),\n",
       " Text(0, 0, 'Other Race')]"
      ]
     },
     "execution_count": 15,
     "metadata": {},
     "output_type": "execute_result"
    },
    {
     "data": {
      "image/png": "[encoded data removed]",
      "text/plain": [
       "<Figure size 432x288 with 1 Axes>"
      ]
     },
     "metadata": {
      "needs_background": "light"
     },
     "output_type": "display_data"
    }
   ],
   "source": [
    "etplt = sns.countplot(x = 'Ethnicity', data = data)\n",
    "etplt.set_xticklabels(labels=('Mexican American', 'Other Hispanic', 'Non-Hispanic White', 'Non-Hispanic Black', 'Other Race'),rotation=15)"
   ]
  },
  {
   "cell_type": "code",
   "execution_count": 18,
   "metadata": {},
   "outputs": [
    {
     "data": {
      "text/plain": [
       "<seaborn.axisgrid.FacetGrid at 0x2529e4e5898>"
      ]
     },
     "execution_count": 18,
     "metadata": {},
     "output_type": "execute_result"
    },
    {
     "data": {
      "image/png": "[encoded data removed]",
      "text/plain": [
       "<Figure size 475x360 with 1 Axes>"
      ]
     },
     "metadata": {
      "needs_background": "light"
     },
     "output_type": "display_data"
    }
   ],
   "source": [
    "g = sns.catplot(x=\"Hepb\", hue=\"Sex\", data=data,\n",
    "                 kind=\"count\")\n",
    "g.set_xticklabels(labels=['Postive', 'Negative'])\n",
    "g.add_legend(title='Sex', loc='upper right', labels=['Male', 'Female'])\n"
   ]
  },
  {
   "cell_type": "code",
   "execution_count": 19,
   "metadata": {},
   "outputs": [
    {
     "data": {
      "text/html": [
       "<div>\n",
       "<style scoped>\n",
       "    .dataframe tbody tr th:only-of-type {\n",
       "        vertical-align: middle;\n",
       "    }\n",
       "\n",
       "    .dataframe tbody tr th {\n",
       "        vertical-align: top;\n",
       "    }\n",
       "\n",
       "    .dataframe thead th {\n",
       "        text-align: right;\n",
       "    }\n",
       "</style>\n",
       "<table border=\"1\" class=\"dataframe\">\n",
       "  <thead>\n",
       "    <tr style=\"text-align: right;\">\n",
       "      <th></th>\n",
       "      <th>Sex</th>\n",
       "      <th>Ethnicity</th>\n",
       "      <th>Hiv</th>\n",
       "      <th>Hepb</th>\n",
       "      <th>nAge</th>\n",
       "      <th>nAlcohol</th>\n",
       "    </tr>\n",
       "  </thead>\n",
       "  <tbody>\n",
       "    <tr>\n",
       "      <th>Sex</th>\n",
       "      <td>1.000000</td>\n",
       "      <td>0.029244</td>\n",
       "      <td>0.050069</td>\n",
       "      <td>0.032912</td>\n",
       "      <td>-0.018139</td>\n",
       "      <td>-0.269061</td>\n",
       "    </tr>\n",
       "    <tr>\n",
       "      <th>Ethnicity</th>\n",
       "      <td>0.029244</td>\n",
       "      <td>1.000000</td>\n",
       "      <td>-0.024789</td>\n",
       "      <td>-0.137420</td>\n",
       "      <td>0.019170</td>\n",
       "      <td>-0.172966</td>\n",
       "    </tr>\n",
       "    <tr>\n",
       "      <th>Hiv</th>\n",
       "      <td>0.050069</td>\n",
       "      <td>-0.024789</td>\n",
       "      <td>1.000000</td>\n",
       "      <td>0.133732</td>\n",
       "      <td>-0.027215</td>\n",
       "      <td>-0.004697</td>\n",
       "    </tr>\n",
       "    <tr>\n",
       "      <th>Hepb</th>\n",
       "      <td>0.032912</td>\n",
       "      <td>-0.137420</td>\n",
       "      <td>0.133732</td>\n",
       "      <td>1.000000</td>\n",
       "      <td>-0.125778</td>\n",
       "      <td>0.002465</td>\n",
       "    </tr>\n",
       "    <tr>\n",
       "      <th>nAge</th>\n",
       "      <td>-0.018139</td>\n",
       "      <td>0.019170</td>\n",
       "      <td>-0.027215</td>\n",
       "      <td>-0.125778</td>\n",
       "      <td>1.000000</td>\n",
       "      <td>-0.129319</td>\n",
       "    </tr>\n",
       "    <tr>\n",
       "      <th>nAlcohol</th>\n",
       "      <td>-0.269061</td>\n",
       "      <td>-0.172966</td>\n",
       "      <td>-0.004697</td>\n",
       "      <td>0.002465</td>\n",
       "      <td>-0.129319</td>\n",
       "      <td>1.000000</td>\n",
       "    </tr>\n",
       "  </tbody>\n",
       "</table>\n",
       "</div>"
      ],
      "text/plain": [
       "                Sex  Ethnicity       Hiv      Hepb      nAge  nAlcohol\n",
       "Sex        1.000000   0.029244  0.050069  0.032912 -0.018139 -0.269061\n",
       "Ethnicity  0.029244   1.000000 -0.024789 -0.137420  0.019170 -0.172966\n",
       "Hiv        0.050069  -0.024789  1.000000  0.133732 -0.027215 -0.004697\n",
       "Hepb       0.032912  -0.137420  0.133732  1.000000 -0.125778  0.002465\n",
       "nAge      -0.018139   0.019170 -0.027215 -0.125778  1.000000 -0.129319\n",
       "nAlcohol  -0.269061  -0.172966 -0.004697  0.002465 -0.129319  1.000000"
      ]
     },
     "execution_count": 19,
     "metadata": {},
     "output_type": "execute_result"
    }
   ],
   "source": [
    "data.corr()"
   ]
  },
  {
   "cell_type": "code",
   "execution_count": 21,
   "metadata": {},
   "outputs": [
    {
     "data": {
      "text/plain": [
       "<matplotlib.axes._subplots.AxesSubplot at 0x252a14e3128>"
      ]
     },
     "execution_count": 21,
     "metadata": {},
     "output_type": "execute_result"
    },
    {
     "data": {
      "image/png": "[encoded data removed]",
      "text/plain": [
       "<Figure size 432x288 with 1 Axes>"
      ]
     },
     "metadata": {
      "needs_background": "light"
     },
     "output_type": "display_data"
    }
   ],
   "source": [
    "sns.distplot(data.nAge)"
   ]
  },
  {
   "cell_type": "code",
   "execution_count": 114,
   "metadata": {},
   "outputs": [
    {
     "data": {
      "text/plain": [
       "<matplotlib.axes._subplots.AxesSubplot at 0x252a3aaf320>"
      ]
     },
     "execution_count": 114,
     "metadata": {},
     "output_type": "execute_result"
    },
    {
     "data": {
      "image/png": "[encoded data removed]",
      "text/plain": [
       "<Figure size 432x288 with 1 Axes>"
      ]
     },
     "metadata": {
      "needs_background": "light"
     },
     "output_type": "display_data"
    }
   ],
   "source": [
    "sns.distplot(data.nIncome)"
   ]
  },
  {
   "cell_type": "markdown",
   "metadata": {
    "colab_type": "text",
    "id": "fLeYcXq9Q6rz"
   },
   "source": [
    "## Preprocessing data"
   ]
  },
  {
   "cell_type": "markdown",
   "metadata": {
    "colab_type": "text",
    "id": "7L6bz_PHQ6r2"
   },
   "source": [
    "Before we begin to implement a model, we need to prepare the variables that will be used. At this step we convert categorical variables into dummy\\indicator variables (https://chrisalbon.com/python/data_wrangling/pandas_convert_categorical_to_dummies/). Additionally, you'll have to normalize and transform variables if necessary."
   ]
  },
  {
   "cell_type": "code",
   "execution_count": 123,
   "metadata": {
    "colab": {},
    "colab_type": "code",
    "id": "5xbfe62ZQ6r3"
   },
   "outputs": [
    {
     "data": {
      "text/html": [
       "<div>\n",
       "<style scoped>\n",
       "    .dataframe tbody tr th:only-of-type {\n",
       "        vertical-align: middle;\n",
       "    }\n",
       "\n",
       "    .dataframe tbody tr th {\n",
       "        vertical-align: top;\n",
       "    }\n",
       "\n",
       "    .dataframe thead th {\n",
       "        text-align: right;\n",
       "    }\n",
       "</style>\n",
       "<table border=\"1\" class=\"dataframe\">\n",
       "  <thead>\n",
       "    <tr style=\"text-align: right;\">\n",
       "      <th></th>\n",
       "      <th>Hepb</th>\n",
       "      <th>nAge</th>\n",
       "      <th>nAlcohol</th>\n",
       "      <th>nIncome</th>\n",
       "      <th>Ethnicity_1</th>\n",
       "      <th>Ethnicity_2</th>\n",
       "      <th>Ethnicity_3</th>\n",
       "      <th>Ethnicity_4</th>\n",
       "      <th>Ethnicity_5</th>\n",
       "      <th>Sex_0</th>\n",
       "      <th>Sex_1</th>\n",
       "      <th>Hiv_0</th>\n",
       "      <th>Hiv_1</th>\n",
       "    </tr>\n",
       "  </thead>\n",
       "  <tbody>\n",
       "    <tr>\n",
       "      <th>count</th>\n",
       "      <td>5981.000000</td>\n",
       "      <td>5.981000e+03</td>\n",
       "      <td>5981.000000</td>\n",
       "      <td>5981.000000</td>\n",
       "      <td>5981.000000</td>\n",
       "      <td>5981.000000</td>\n",
       "      <td>5981.000000</td>\n",
       "      <td>5981.00000</td>\n",
       "      <td>5981.000000</td>\n",
       "      <td>5981.000000</td>\n",
       "      <td>5981.000000</td>\n",
       "      <td>5981.000000</td>\n",
       "      <td>5981.000000</td>\n",
       "    </tr>\n",
       "    <tr>\n",
       "      <th>mean</th>\n",
       "      <td>0.951848</td>\n",
       "      <td>3.145415e-17</td>\n",
       "      <td>-3.007570</td>\n",
       "      <td>-2.704634</td>\n",
       "      <td>0.160341</td>\n",
       "      <td>0.100150</td>\n",
       "      <td>0.454606</td>\n",
       "      <td>0.20214</td>\n",
       "      <td>0.082762</td>\n",
       "      <td>0.529845</td>\n",
       "      <td>0.470155</td>\n",
       "      <td>0.006521</td>\n",
       "      <td>0.993479</td>\n",
       "    </tr>\n",
       "    <tr>\n",
       "      <th>std</th>\n",
       "      <td>0.214106</td>\n",
       "      <td>1.000084e+00</td>\n",
       "      <td>0.267645</td>\n",
       "      <td>0.304065</td>\n",
       "      <td>0.366953</td>\n",
       "      <td>0.300226</td>\n",
       "      <td>0.497977</td>\n",
       "      <td>0.40163</td>\n",
       "      <td>0.275545</td>\n",
       "      <td>0.499150</td>\n",
       "      <td>0.499150</td>\n",
       "      <td>0.080494</td>\n",
       "      <td>0.080494</td>\n",
       "    </tr>\n",
       "    <tr>\n",
       "      <th>min</th>\n",
       "      <td>0.000000</td>\n",
       "      <td>-1.685206e+00</td>\n",
       "      <td>-3.217550</td>\n",
       "      <td>-3.217550</td>\n",
       "      <td>0.000000</td>\n",
       "      <td>0.000000</td>\n",
       "      <td>0.000000</td>\n",
       "      <td>0.00000</td>\n",
       "      <td>0.000000</td>\n",
       "      <td>0.000000</td>\n",
       "      <td>0.000000</td>\n",
       "      <td>0.000000</td>\n",
       "      <td>0.000000</td>\n",
       "    </tr>\n",
       "    <tr>\n",
       "      <th>25%</th>\n",
       "      <td>1.000000</td>\n",
       "      <td>-8.739652e-01</td>\n",
       "      <td>-3.217550</td>\n",
       "      <td>-2.947136</td>\n",
       "      <td>0.000000</td>\n",
       "      <td>0.000000</td>\n",
       "      <td>0.000000</td>\n",
       "      <td>0.00000</td>\n",
       "      <td>0.000000</td>\n",
       "      <td>0.000000</td>\n",
       "      <td>0.000000</td>\n",
       "      <td>0.000000</td>\n",
       "      <td>1.000000</td>\n",
       "    </tr>\n",
       "    <tr>\n",
       "      <th>50%</th>\n",
       "      <td>1.000000</td>\n",
       "      <td>-6.272427e-02</td>\n",
       "      <td>-3.127412</td>\n",
       "      <td>-2.676723</td>\n",
       "      <td>0.000000</td>\n",
       "      <td>0.000000</td>\n",
       "      <td>0.000000</td>\n",
       "      <td>0.00000</td>\n",
       "      <td>0.000000</td>\n",
       "      <td>1.000000</td>\n",
       "      <td>0.000000</td>\n",
       "      <td>0.000000</td>\n",
       "      <td>1.000000</td>\n",
       "    </tr>\n",
       "    <tr>\n",
       "      <th>75%</th>\n",
       "      <td>1.000000</td>\n",
       "      <td>8.386545e-01</td>\n",
       "      <td>-2.947136</td>\n",
       "      <td>-2.406309</td>\n",
       "      <td>0.000000</td>\n",
       "      <td>0.000000</td>\n",
       "      <td>1.000000</td>\n",
       "      <td>0.00000</td>\n",
       "      <td>0.000000</td>\n",
       "      <td>1.000000</td>\n",
       "      <td>1.000000</td>\n",
       "      <td>0.000000</td>\n",
       "      <td>1.000000</td>\n",
       "    </tr>\n",
       "    <tr>\n",
       "      <th>max</th>\n",
       "      <td>1.000000</td>\n",
       "      <td>2.010447e+00</td>\n",
       "      <td>-0.603552</td>\n",
       "      <td>-2.226033</td>\n",
       "      <td>1.000000</td>\n",
       "      <td>1.000000</td>\n",
       "      <td>1.000000</td>\n",
       "      <td>1.00000</td>\n",
       "      <td>1.000000</td>\n",
       "      <td>1.000000</td>\n",
       "      <td>1.000000</td>\n",
       "      <td>1.000000</td>\n",
       "      <td>1.000000</td>\n",
       "    </tr>\n",
       "  </tbody>\n",
       "</table>\n",
       "</div>"
      ],
      "text/plain": [
       "              Hepb          nAge     nAlcohol      nIncome  Ethnicity_1  \\\n",
       "count  5981.000000  5.981000e+03  5981.000000  5981.000000  5981.000000   \n",
       "mean      0.951848  3.145415e-17    -3.007570    -2.704634     0.160341   \n",
       "std       0.214106  1.000084e+00     0.267645     0.304065     0.366953   \n",
       "min       0.000000 -1.685206e+00    -3.217550    -3.217550     0.000000   \n",
       "25%       1.000000 -8.739652e-01    -3.217550    -2.947136     0.000000   \n",
       "50%       1.000000 -6.272427e-02    -3.127412    -2.676723     0.000000   \n",
       "75%       1.000000  8.386545e-01    -2.947136    -2.406309     0.000000   \n",
       "max       1.000000  2.010447e+00    -0.603552    -2.226033     1.000000   \n",
       "\n",
       "       Ethnicity_2  Ethnicity_3  Ethnicity_4  Ethnicity_5        Sex_0  \\\n",
       "count  5981.000000  5981.000000   5981.00000  5981.000000  5981.000000   \n",
       "mean      0.100150     0.454606      0.20214     0.082762     0.529845   \n",
       "std       0.300226     0.497977      0.40163     0.275545     0.499150   \n",
       "min       0.000000     0.000000      0.00000     0.000000     0.000000   \n",
       "25%       0.000000     0.000000      0.00000     0.000000     0.000000   \n",
       "50%       0.000000     0.000000      0.00000     0.000000     1.000000   \n",
       "75%       0.000000     1.000000      0.00000     0.000000     1.000000   \n",
       "max       1.000000     1.000000      1.00000     1.000000     1.000000   \n",
       "\n",
       "             Sex_1        Hiv_0        Hiv_1  \n",
       "count  5981.000000  5981.000000  5981.000000  \n",
       "mean      0.470155     0.006521     0.993479  \n",
       "std       0.499150     0.080494     0.080494  \n",
       "min       0.000000     0.000000     0.000000  \n",
       "25%       0.000000     0.000000     1.000000  \n",
       "50%       0.000000     0.000000     1.000000  \n",
       "75%       1.000000     0.000000     1.000000  \n",
       "max       1.000000     1.000000     1.000000  "
      ]
     },
     "execution_count": 123,
     "metadata": {},
     "output_type": "execute_result"
    }
   ],
   "source": [
    "# Write your code here\n",
    "\n",
    "mydat1 = pd.get_dummies(data, columns = [\"Ethnicity\", \"Sex\", \"Hiv\"])\n",
    "\n",
    "mydat1.describe()"
   ]
  },
  {
   "cell_type": "markdown",
   "metadata": {
    "colab_type": "text",
    "id": "tip3FqeNQ6r6"
   },
   "source": [
    "## Model training and selection\n",
    "Now, let's split our data into training and testing in an 80-20 split, stratified by HEPB distribution (this tries to keep the HEPB distribution approximately equal for the training and test set). For consistency, let's use a random seed 0."
   ]
  },
  {
   "cell_type": "code",
   "execution_count": 116,
   "metadata": {
    "colab": {},
    "colab_type": "code",
    "id": "FW0bZW4hQ6r7"
   },
   "outputs": [],
   "source": [
    "# Write your code here\n",
    "from sklearn.model_selection import train_test_split"
   ]
  },
  {
   "cell_type": "markdown",
   "metadata": {
    "colab_type": "text",
    "id": "WxyiThvSQ6sB"
   },
   "source": [
    "Now we can use our training data to create the model and  make predicitons with your test data."
   ]
  },
  {
   "cell_type": "code",
   "execution_count": 131,
   "metadata": {
    "colab": {},
    "colab_type": "code",
    "id": "7uOe_isfQ6sC"
   },
   "outputs": [
    {
     "name": "stderr",
     "output_type": "stream",
     "text": [
      "C:\\software\\Python36\\Anaconda3\\lib\\site-packages\\sklearn\\svm\\base.py:193: FutureWarning: The default value of gamma will change from 'auto' to 'scale' in version 0.22 to account better for unscaled features. Set gamma explicitly to 'auto' or 'scale' to avoid this warning.\n",
      "  \"avoid this warning.\", FutureWarning)\n"
     ]
    }
   ],
   "source": [
    "#Write your code here\n",
    "\n",
    "from sklearn.linear_model import LogisticRegression\n",
    "from sklearn.tree import DecisionTreeClassifier\n",
    "from sklearn.neighbors import KNeighborsClassifier\n",
    "from sklearn.neural_network import MLPClassifier\n",
    "from sklearn.linear_model import RidgeClassifier\n",
    "from sklearn.linear_model import *\n",
    "from sklearn.svm import SVC\n",
    "\n",
    "x_cols = [\"Ethnicity_1\",\"Ethnicity_2\", \"Ethnicity_3\",\"Ethnicity_4\", \"Ethnicity_5\", \"Sex_0\" , \"Sex_1\"]\n",
    "\n",
    "y = mydat1[\"Hepb\"]\n",
    "\n",
    "X_train, X_test, y_train, y_test = train_test_split(mydat1[x_cols], y, random_state=0, stratify=mydat1[\"Hepb\"], test_size=0.25)\n",
    "\n",
    "model = SVC()\n",
    "#model = DecisionTreeClassifier(max_depth=6, criterion='entropy')\n",
    "trained = model.fit(X_train, y_train)"
   ]
  },
  {
   "cell_type": "markdown",
   "metadata": {
    "colab_type": "text",
    "id": "v-UpFAs_Q6sF"
   },
   "source": [
    "# Scoring Metrics\n",
    "## Confusion Matrix Metrics\n",
    "\n",
    "There are several useful metrics that are derived from the confusion matrix:\n",
    "\n",
    "![alt text](https://i.imgur.com/uipmEwt.png)\n",
    "\n",
    "* sensitivity, **recall**, hit rate, or true positive rate (TPR) : $ \\mathrm {TPR} ={\\frac {\\mathrm {TP} }{P}}={\\frac {\\mathrm {TP} }{\\mathrm {TP} +\\mathrm {FN} }}$\n",
    " \n",
    "* **precision** or positive predictive value (PPV) : $ \\mathrm {PPV} ={\\frac {\\mathrm {TP} }{\\mathrm {TP} +\\mathrm {FP} }}$\n",
    "\n",
    "* specificity or true negative rate (TNR) : $\\mathrm {TNR} ={\\frac {\\mathrm {TN} }{N}}={\\frac {\\mathrm {TN} }{\\mathrm {TN} +\\mathrm {FP} }}$\n",
    "\n",
    "* miss rate or false negative rate (FNR) : $ \\mathrm {FNR} ={\\frac {\\mathrm {FN} }{P}}={\\frac {\\mathrm {FN} }{\\mathrm {FN} +\\mathrm {TP} }}=1-\\mathrm {TPR}$\n",
    "\n",
    "* fall-out or false positive rate (FPR) : $\\mathrm {FPR} ={\\frac {\\mathrm {FP} }{N}}={\\frac {\\mathrm {FP} }{\\mathrm {FP} +\\mathrm {TN} }}=1-\\mathrm {TNR} $\n",
    "\n",
    "* accuracy (ACC) : $\\mathrm {ACC} ={\\frac {\\mathrm {TP} +\\mathrm {TN} }{P+N}}={\\frac {\\mathrm {TP} +\\mathrm {TN} }{\\mathrm {TP} +\\mathrm {TN} +\\mathrm {FP} +\\mathrm {FN} }}$\n",
    "\n",
    "Now use code below to calculate the confusion matrix."
   ]
  },
  {
   "cell_type": "code",
   "execution_count": 132,
   "metadata": {
    "colab": {},
    "colab_type": "code",
    "id": "SeDPiuXEQ6sG"
   },
   "outputs": [
    {
     "ename": "AttributeError",
     "evalue": "predict_proba is not available when  probability=False",
     "output_type": "error",
     "traceback": [
      "\u001b[1;31m---------------------------------------------------------------------------\u001b[0m",
      "\u001b[1;31mAttributeError\u001b[0m                            Traceback (most recent call last)",
      "\u001b[1;32m<ipython-input-132-a74ccf21e5cd>\u001b[0m in \u001b[0;36m<module>\u001b[1;34m\u001b[0m\n\u001b[0;32m      7\u001b[0m \u001b[1;31m# apply the model to test data\u001b[0m\u001b[1;33m\u001b[0m\u001b[1;33m\u001b[0m\u001b[1;33m\u001b[0m\u001b[0m\n\u001b[0;32m      8\u001b[0m \u001b[0my_val_predict\u001b[0m \u001b[1;33m=\u001b[0m \u001b[0mmodel\u001b[0m\u001b[1;33m.\u001b[0m\u001b[0mpredict\u001b[0m\u001b[1;33m(\u001b[0m\u001b[0mX_test\u001b[0m\u001b[1;33m)\u001b[0m\u001b[1;33m\u001b[0m\u001b[1;33m\u001b[0m\u001b[0m\n\u001b[1;32m----> 9\u001b[1;33m \u001b[0my_val_proba\u001b[0m \u001b[1;33m=\u001b[0m \u001b[0mmodel\u001b[0m\u001b[1;33m.\u001b[0m\u001b[0mpredict_proba\u001b[0m\u001b[1;33m(\u001b[0m\u001b[0mX_test\u001b[0m\u001b[1;33m)\u001b[0m\u001b[1;33m\u001b[0m\u001b[1;33m\u001b[0m\u001b[0m\n\u001b[0m\u001b[0;32m     10\u001b[0m \u001b[1;33m\u001b[0m\u001b[0m\n\u001b[0;32m     11\u001b[0m \u001b[1;32mdef\u001b[0m \u001b[0mcm_metric\u001b[0m\u001b[1;33m(\u001b[0m\u001b[0my_true\u001b[0m\u001b[1;33m,\u001b[0m\u001b[0my_prob\u001b[0m\u001b[1;33m)\u001b[0m\u001b[1;33m:\u001b[0m\u001b[1;33m\u001b[0m\u001b[1;33m\u001b[0m\u001b[0m\n",
      "\u001b[1;32mC:\\software\\Python36\\Anaconda3\\lib\\site-packages\\sklearn\\svm\\base.py\u001b[0m in \u001b[0;36mpredict_proba\u001b[1;34m(self)\u001b[0m\n\u001b[0;32m    614\u001b[0m         \u001b[0mdatasets\u001b[0m\u001b[1;33m.\u001b[0m\u001b[1;33m\u001b[0m\u001b[1;33m\u001b[0m\u001b[0m\n\u001b[0;32m    615\u001b[0m         \"\"\"\n\u001b[1;32m--> 616\u001b[1;33m         \u001b[0mself\u001b[0m\u001b[1;33m.\u001b[0m\u001b[0m_check_proba\u001b[0m\u001b[1;33m(\u001b[0m\u001b[1;33m)\u001b[0m\u001b[1;33m\u001b[0m\u001b[1;33m\u001b[0m\u001b[0m\n\u001b[0m\u001b[0;32m    617\u001b[0m         \u001b[1;32mreturn\u001b[0m \u001b[0mself\u001b[0m\u001b[1;33m.\u001b[0m\u001b[0m_predict_proba\u001b[0m\u001b[1;33m\u001b[0m\u001b[1;33m\u001b[0m\u001b[0m\n\u001b[0;32m    618\u001b[0m \u001b[1;33m\u001b[0m\u001b[0m\n",
      "\u001b[1;32mC:\\software\\Python36\\Anaconda3\\lib\\site-packages\\sklearn\\svm\\base.py\u001b[0m in \u001b[0;36m_check_proba\u001b[1;34m(self)\u001b[0m\n\u001b[0;32m    581\u001b[0m     \u001b[1;32mdef\u001b[0m \u001b[0m_check_proba\u001b[0m\u001b[1;33m(\u001b[0m\u001b[0mself\u001b[0m\u001b[1;33m)\u001b[0m\u001b[1;33m:\u001b[0m\u001b[1;33m\u001b[0m\u001b[1;33m\u001b[0m\u001b[0m\n\u001b[0;32m    582\u001b[0m         \u001b[1;32mif\u001b[0m \u001b[1;32mnot\u001b[0m \u001b[0mself\u001b[0m\u001b[1;33m.\u001b[0m\u001b[0mprobability\u001b[0m\u001b[1;33m:\u001b[0m\u001b[1;33m\u001b[0m\u001b[1;33m\u001b[0m\u001b[0m\n\u001b[1;32m--> 583\u001b[1;33m             raise AttributeError(\"predict_proba is not available when \"\n\u001b[0m\u001b[0;32m    584\u001b[0m                                  \" probability=False\")\n\u001b[0;32m    585\u001b[0m         \u001b[1;32mif\u001b[0m \u001b[0mself\u001b[0m\u001b[1;33m.\u001b[0m\u001b[0m_impl\u001b[0m \u001b[1;32mnot\u001b[0m \u001b[1;32min\u001b[0m \u001b[1;33m(\u001b[0m\u001b[1;34m'c_svc'\u001b[0m\u001b[1;33m,\u001b[0m \u001b[1;34m'nu_svc'\u001b[0m\u001b[1;33m)\u001b[0m\u001b[1;33m:\u001b[0m\u001b[1;33m\u001b[0m\u001b[1;33m\u001b[0m\u001b[0m\n",
      "\u001b[1;31mAttributeError\u001b[0m: predict_proba is not available when  probability=False"
     ]
    }
   ],
   "source": [
    "# write your code here\n",
    "\n",
    "from sklearn import metrics\n",
    "from sklearn.metrics import confusion_matrix\n",
    "from sklearn.metrics import auc\n",
    "\n",
    "# apply the model to test data\n",
    "y_val_predict = model.predict(X_test)\n",
    "y_val_proba = model.predict_proba(X_test)\n",
    "\n",
    "def cm_metric(y_true,y_prob):\n",
    "    \n",
    "    # predict the class with the greatest probability\n",
    "    y_pred = [np.argmax(y) for y in y_prob]\n",
    "\n",
    "    # calculate the confusion matrix\n",
    "    cm = confusion_matrix(y_true, y_pred)\n",
    "\n",
    "    cm_norm = cm.astype('float') / cm.sum(axis=1)[:, np.newaxis]\n",
    "    #return sum(sum(np.multiply(cm_norm,np.array([[1, -2], [-2, 1]]))))\n",
    "    return(cm)\n",
    "print(cm_metric(y_test,y_val_proba))\n",
    "\n",
    "print(y_test[10:30],y_val_predict[10:30])\n",
    "#print(X_train)"
   ]
  },
  {
   "cell_type": "markdown",
   "metadata": {
    "colab_type": "text",
    "id": "-51H5ga_Q6sJ"
   },
   "source": [
    "The model is classifying everything as class 1... Pretty terrible. :( Well maybe there's a threshold where this doesn't happen. Let's look at the AUC ROC.\n",
    "\n",
    "## AUC ROC\n",
    "\n",
    "A receiver operating characteristic (ROC) is a probability curve that plots the true positive rate (y) against the false positive rate (x) at many decision threshold settings. The area under the curve (AUC) represents a measure of separability or how much the model is capable of distinguishing between classes. An AUC closer to 1 is desirable as it shows the model is perfectly distinguishing between patients with disease and no disease. A poor model has an AUC $\\leq$ 0.50."
   ]
  },
  {
   "cell_type": "code",
   "execution_count": 133,
   "metadata": {
    "colab": {},
    "colab_type": "code",
    "id": "GgdQ64IpQ6sL"
   },
   "outputs": [
    {
     "name": "stdout",
     "output_type": "stream",
     "text": [
      "AUC:  0.7399832240948815\n"
     ]
    },
    {
     "data": {
      "image/png": "[encoded data removed]",
      "text/plain": [
       "<Figure size 432x288 with 1 Axes>"
      ]
     },
     "metadata": {
      "needs_background": "light"
     },
     "output_type": "display_data"
    }
   ],
   "source": [
    "#extract fpr and tpr to plot ROC curve and calculate AUC (Note: fpr-false positive rate and tpr -true positive rate)\n",
    "fpr, tpr, threshold = metrics.roc_curve(y_test, y_val_proba[:,1])\n",
    "\n",
    "roc_auc = metrics.auc(fpr, tpr)\n",
    "print('AUC: ',roc_auc)\n",
    "\n",
    "import matplotlib.pyplot as plt\n",
    "plt.title('Receiver Operating Characteristic')\n",
    "plt.plot(fpr, tpr, 'b', label = 'AUC = %0.3f' % roc_auc)\n",
    "plt.legend(loc = 'lower right')\n",
    "plt.plot([0, 1], [0, 1],'r--')\n",
    "plt.xlim([0, 1])\n",
    "plt.ylim([0, 1])\n",
    "plt.ylabel('True Positive Rate')\n",
    "plt.xlabel('False Positive Rate')\n",
    "plt.show()"
   ]
  },
  {
   "cell_type": "markdown",
   "metadata": {
    "colab_type": "text",
    "id": "EthgNLKrQ6sT"
   },
   "source": [
    "This model only looks at three possible features and leaves lots of room for improvement!  Try using more features, different models, and see if you can do anything about the data we threw out earlier."
   ]
  },
  {
   "cell_type": "markdown",
   "metadata": {
    "colab_type": "text",
    "id": "hsztJpykQ6sU"
   },
   "source": [
    "## Economic Cost\n",
    "Similar to the confusion matrix, we want you to keep in mind the other aspects of healthcare analytics--in this case, economic feasibility. In essence, we want you to minimize the amount of time and money spent on data collection by **reducing the number of features** collected. Each record certainly required a lot of time and money from several individuals and businesses to reliably create, and we hope you gain a better understanding of conducting a useful cost-benefit analysis with this scoring method.  This won't be evaluated quantitatively, but please consider discussing it for your presentation."
   ]
  },
  {
   "cell_type": "markdown",
   "metadata": {
    "colab_type": "text",
    "id": "fALE9f1cQ6sW"
   },
   "source": [
    "For your presentation on Friday, don't foget to mention why you selected the features you used, the model implemented, the scoring metrics mentioned above, and the limitations of your analysis."
   ]
  },
  {
   "cell_type": "markdown",
   "metadata": {
    "colab_type": "text",
    "id": "sjYS6ejgQ6sX"
   },
   "source": [
    "# Next steps\n",
    "For those that finish early, try different classification models such as decision trees, KNN, SVM etc. You can try tackling the multiclass classifier (predicting the different cases instead of simply negative or positive)!\n",
    "\n",
    "Given the rich data set provided feel free to study a research question of your interest. Have fun! (:"
   ]
  }
 ],
 "metadata": {
  "colab": {
   "name": "Challenge Problem Week 1-Student.ipynb",
   "provenance": [],
   "version": "0.3.2"
  },
  "kernelspec": {
   "display_name": "Python 3",
   "language": "python",
   "name": "python3"
  },
  "language_info": {
   "codemirror_mode": {
    "name": "ipython",
    "version": 3
   },
   "file_extension": ".py",
   "mimetype": "text/x-python",
   "name": "python",
   "nbconvert_exporter": "python",
   "pygments_lexer": "ipython3",
   "version": "3.6.8"
  }
 },
 "nbformat": 4,
 "nbformat_minor": 1
}
