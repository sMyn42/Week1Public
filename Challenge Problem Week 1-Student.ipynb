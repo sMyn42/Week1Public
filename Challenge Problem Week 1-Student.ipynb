{
 "cells": [
  {
   "cell_type": "markdown",
   "metadata": {
    "colab_type": "text",
    "id": "HJlaA4-1Q6q1"
   },
   "source": [
    "# Challenge Problem Week 1"
   ]
  },
  {
   "cell_type": "markdown",
   "metadata": {
    "colab_type": "text",
    "id": "TjQPxXEuQ6q5"
   },
   "source": [
    "Hepatitis B (HEP B) is a liver infection caused by the hepatitis B virus (HBV). The infection causes inflammation of the liver and if not properly treated, the virus can lead to liver disease such as cirrhosis or liver cancer. \n",
    "HEP B is the most primary causes of liver cancer, the one of the leading cause of cancer deaths in the world, therfore making it a major global health problem. HEP B is up to 100 times more infectious than the HIV/AIDS virus. Two billion people (1 in 3) have been infected and more than 292 million people are living with a chronic hepatitis B infection. Although HEP B is treatable and preventable about 884,000 people die each year.\n",
    "\n",
    "The virus is transmitted through the blood and infected bodily fluids. It can be passed to others through direct contact with blood, unprotected sex, use of illegal drugs, unsterilized or contaminated needles, and from an infected woman to her newborn during pregnancy or childbirth. Most people do not show symptoms and the only way to know you are infected is by getting tested.\n",
    "\n",
    "![hepb](https://images.onhealth.com/images/slideshow/hepatitis-s1-liver-hepatitis-virus.jpg)\n",
    "\n",
    "**Goal**: Use the NHANES data set to predict whether a patient has HEP B or not. We want to determine which attributes are the most meaningful to the predictive models. We want to create a balanced model that can predict with a high sensitivity and high specificity while using the **least amount of features**. Essentially is there a way to identify the population of those infected without testing them? \n",
    "\n",
    "Source: https://www.hepb.org/what-is-hepatitis-b/what-is-hepb/ "
   ]
  },
  {
   "cell_type": "markdown",
   "metadata": {
    "colab_type": "text",
    "id": "IMkuiSM1Q6q7"
   },
   "source": [
    "# National Health and Nutrition Examination Survey NHANES \n",
    "To investigate our research problem we will be using the NHANES database. NHANES is a program of studies designed to assess the health and nutritional status of adults and children in the United States. The survey is unique in that it combines interviews and physical examinations. The survey examines a nationally representative sample of about 5,000 persons each year. These persons are located in counties across the country, 15 of which are visited each year. The NHANES interview includes demographic, socioeconomic, dietary, and health-related questions. The examination component consists of medical, dental, and physiological measurements, as well as laboratory tests administered by highly trained medical personnel.\n",
    "\n",
    "Source: Centers for Disease Control and Prevention (CDC). National Center for Health Statistics (NCHS). National Health and Nutrition Examination Survey Data. Hyattsville, MD: U.S. Department of Health and Human Services, Centers for Disease Control and Prevention, [2019][https://www.cdc.gov/nchs/nhanes/about_nhanes.htm#data]."
   ]
  },
  {
   "cell_type": "markdown",
   "metadata": {
    "colab_type": "text",
    "id": "7mJEYCvNQ6q9"
   },
   "source": [
    "Below are some general steps to begin analyzing this problem. Apply the new material you learned in class and have fun! (:\n",
    "\n",
    "1. Import the data  \n",
    "2. Decide what variables are most relevant  \n",
    "3. Summary statistics of the data  \n",
    "4. Data Cleaning (Important!) Note this may a tedious process  \n",
    "a. Missing data  \n",
    "b. Transform/Normalize data  \n",
    "4. Data Visualization  \n",
    "5. Data analysis  \n",
    "a. Create dummy variables  \n",
    "b. Create training and test sets  \n",
    "c. Statistical methodology  \n",
    "6. Scoring metrics  \n",
    "confusion matrix, roc curve  \n"
   ]
  },
  {
   "cell_type": "code",
   "execution_count": 257,
   "metadata": {
    "colab": {},
    "colab_type": "code",
    "id": "t_VDuXGSQ6q-"
   },
   "outputs": [],
   "source": [
    "#import needed libraries\n",
    "import pandas as pd\n",
    "import numpy as np\n",
    "import matplotlib.pyplot as plt\n",
    "import math\n",
    "import seaborn as sns\n",
    "import time"
   ]
  },
  {
   "cell_type": "markdown",
   "metadata": {
    "colab_type": "text",
    "id": "giyB_yIeQ6rC"
   },
   "source": [
    "## Import data\n",
    "Read in the data set and look at the first ten lines"
   ]
  },
  {
   "cell_type": "code",
   "execution_count": 223,
   "metadata": {
    "colab": {},
    "colab_type": "code",
    "id": "txtC4RJAQ6rE"
   },
   "outputs": [
    {
     "name": "stdout",
     "output_type": "stream",
     "text": [
      "0.015619993209838867\n"
     ]
    },
    {
     "data": {
      "text/plain": [
       "0.015619993209838867"
      ]
     },
     "execution_count": 223,
     "metadata": {},
     "output_type": "execute_result"
    }
   ],
   "source": [
    "#import data\n",
    "time1 = time.time()\n",
    "dataset = pd.read_csv('bigData.csv', chunksize=1000, usecols=['RIDAGEYR', 'LBXHBC', 'IND235', 'LBDHI', 'LBXHIVC', \"ALQ130\", \"RIDRETH1\", \"RIAGENDR\"])\n",
    "data = pd.DataFrame()\n",
    "print(time.time()- time1)\n",
    "'''\n",
    "USED VARIABLES\n",
    "# Major Variable\n",
    "# --------\n",
    "# Jaundice         MCQ203            \n",
    "#---------\n",
    "# Income           IND235                    *****************\n",
    "#---------\n",
    "# HEP B Antigen    LBXHBC                    **********************\n",
    "#---------\n",
    "# Main HIV Test    LBDHI, LBXHIVC            ********************\n",
    "#---------\n",
    "# Alcohol          ALQ130                    ***********************\n",
    "#---------\n",
    "# Age              RIDAGEYR                  ******************\n",
    "#--------- \n",
    "# Ethnicity        RIDRETH1                  ************************                      \n",
    "#---------\n",
    "# Liver Cancer (Conf.)    MCQ240M -- trivial only 36 instances FUCK THIS>>>\n",
    "#---------  \n",
    "\n",
    "\n",
    "VETOED VARIABLES\n",
    "# Fatigue??, Vomiting??, Joint Pain??, Ab Pain??, Dark Urine??, HIV, Hep C?? HIV::LBDHI, LBXCD4, LBXCD8, LBXHIVC    \n",
    "# Others???\n",
    "'''\n",
    "\n",
    "time.time() - time1"
   ]
  },
  {
   "cell_type": "code",
   "execution_count": 231,
   "metadata": {},
   "outputs": [
    {
     "data": {
      "text/plain": [
       "(66990, 8)"
      ]
     },
     "execution_count": 231,
     "metadata": {},
     "output_type": "execute_result"
    }
   ],
   "source": [
    "for chunk in dataset:\n",
    "    data = data.append(chunk)\n",
    "    \n",
    "data.shape"
   ]
  },
  {
   "cell_type": "code",
   "execution_count": 225,
   "metadata": {},
   "outputs": [],
   "source": [
    "hepb = 'LBXHBC'\n",
    "hiv = 'LBDHI'\n",
    "hiv2 = 'LBXHIVC'\n",
    "inc = 'IND235'\n",
    "jaund = 'MCQ203'\n",
    "#livcanc = 'MCQ240M'\n",
    "\n",
    "data = data.rename(index = str, columns = {\"LBXHBC\": \"Hepb\", \"LBDHI\": \"Hiv\",\"LBXHIVC\":\"Hiv2\", \"IND235\":\"Income\", \"MCQ203\":\"Jaundice\", \"RIAGENDR\":\"Sex\", \"RIDAGEYR\":\"Age\", \"ALQ130\":\"Alcohol\", \"RIDRETH1\":\"Ethnicity\"})\n",
    "\n",
    "data_hep_B_null = pd.isnull(data[\"Hepb\"])\n",
    "\n",
    "data = data[~ data_hep_B_null]"
   ]
  },
  {
   "cell_type": "code",
   "execution_count": 292,
   "metadata": {
    "colab": {
     "base_uri": "https://localhost:8080/",
     "height": 193
    },
    "colab_type": "code",
    "id": "n7ok46j0RRog",
    "outputId": "f6042c8c-050e-4a8b-e8f7-0a17fbe15083"
   },
   "outputs": [
    {
     "data": {
      "text/html": [
       "<div>\n",
       "<style scoped>\n",
       "    .dataframe tbody tr th:only-of-type {\n",
       "        vertical-align: middle;\n",
       "    }\n",
       "\n",
       "    .dataframe tbody tr th {\n",
       "        vertical-align: top;\n",
       "    }\n",
       "\n",
       "    .dataframe thead th {\n",
       "        text-align: right;\n",
       "    }\n",
       "</style>\n",
       "<table border=\"1\" class=\"dataframe\">\n",
       "  <thead>\n",
       "    <tr style=\"text-align: right;\">\n",
       "      <th></th>\n",
       "      <th>Sex</th>\n",
       "      <th>Age</th>\n",
       "      <th>Ethnicity</th>\n",
       "      <th>Hiv</th>\n",
       "      <th>Hepb</th>\n",
       "      <th>Alcohol</th>\n",
       "      <th>Income</th>\n",
       "      <th>Hiv2</th>\n",
       "      <th>Agelog</th>\n",
       "    </tr>\n",
       "  </thead>\n",
       "  <tbody>\n",
       "    <tr>\n",
       "      <th>count</th>\n",
       "      <td>66990.000000</td>\n",
       "      <td>66990.000000</td>\n",
       "      <td>66990.000000</td>\n",
       "      <td>25800.000000</td>\n",
       "      <td>66990.000000</td>\n",
       "      <td>23662.000000</td>\n",
       "      <td>32721.000000</td>\n",
       "      <td>3560.000000</td>\n",
       "      <td>66990.000000</td>\n",
       "    </tr>\n",
       "    <tr>\n",
       "      <th>mean</th>\n",
       "      <td>1.509076</td>\n",
       "      <td>37.032691</td>\n",
       "      <td>2.862950</td>\n",
       "      <td>0.005271</td>\n",
       "      <td>0.051515</td>\n",
       "      <td>2.852675</td>\n",
       "      <td>6.644662</td>\n",
       "      <td>0.004494</td>\n",
       "      <td>3.375587</td>\n",
       "    </tr>\n",
       "    <tr>\n",
       "      <th>std</th>\n",
       "      <td>0.499921</td>\n",
       "      <td>22.924912</td>\n",
       "      <td>1.221665</td>\n",
       "      <td>0.072414</td>\n",
       "      <td>0.221048</td>\n",
       "      <td>2.641590</td>\n",
       "      <td>3.243460</td>\n",
       "      <td>0.066899</td>\n",
       "      <td>0.734752</td>\n",
       "    </tr>\n",
       "    <tr>\n",
       "      <th>min</th>\n",
       "      <td>1.000000</td>\n",
       "      <td>6.000000</td>\n",
       "      <td>1.000000</td>\n",
       "      <td>0.000000</td>\n",
       "      <td>0.000000</td>\n",
       "      <td>1.000000</td>\n",
       "      <td>1.000000</td>\n",
       "      <td>0.000000</td>\n",
       "      <td>1.791759</td>\n",
       "    </tr>\n",
       "    <tr>\n",
       "      <th>25%</th>\n",
       "      <td>1.000000</td>\n",
       "      <td>16.000000</td>\n",
       "      <td>2.000000</td>\n",
       "      <td>0.000000</td>\n",
       "      <td>0.000000</td>\n",
       "      <td>1.000000</td>\n",
       "      <td>4.000000</td>\n",
       "      <td>0.000000</td>\n",
       "      <td>2.772589</td>\n",
       "    </tr>\n",
       "    <tr>\n",
       "      <th>50%</th>\n",
       "      <td>2.000000</td>\n",
       "      <td>33.000000</td>\n",
       "      <td>3.000000</td>\n",
       "      <td>0.000000</td>\n",
       "      <td>0.000000</td>\n",
       "      <td>2.000000</td>\n",
       "      <td>6.000000</td>\n",
       "      <td>0.000000</td>\n",
       "      <td>3.496508</td>\n",
       "    </tr>\n",
       "    <tr>\n",
       "      <th>75%</th>\n",
       "      <td>2.000000</td>\n",
       "      <td>56.000000</td>\n",
       "      <td>4.000000</td>\n",
       "      <td>0.000000</td>\n",
       "      <td>0.000000</td>\n",
       "      <td>3.000000</td>\n",
       "      <td>9.000000</td>\n",
       "      <td>0.000000</td>\n",
       "      <td>4.025352</td>\n",
       "    </tr>\n",
       "    <tr>\n",
       "      <th>max</th>\n",
       "      <td>2.000000</td>\n",
       "      <td>85.000000</td>\n",
       "      <td>5.000000</td>\n",
       "      <td>1.000000</td>\n",
       "      <td>1.000000</td>\n",
       "      <td>30.000000</td>\n",
       "      <td>12.000000</td>\n",
       "      <td>1.000000</td>\n",
       "      <td>4.442651</td>\n",
       "    </tr>\n",
       "  </tbody>\n",
       "</table>\n",
       "</div>"
      ],
      "text/plain": [
       "                Sex           Age     Ethnicity           Hiv          Hepb  \\\n",
       "count  66990.000000  66990.000000  66990.000000  25800.000000  66990.000000   \n",
       "mean       1.509076     37.032691      2.862950      0.005271      0.051515   \n",
       "std        0.499921     22.924912      1.221665      0.072414      0.221048   \n",
       "min        1.000000      6.000000      1.000000      0.000000      0.000000   \n",
       "25%        1.000000     16.000000      2.000000      0.000000      0.000000   \n",
       "50%        2.000000     33.000000      3.000000      0.000000      0.000000   \n",
       "75%        2.000000     56.000000      4.000000      0.000000      0.000000   \n",
       "max        2.000000     85.000000      5.000000      1.000000      1.000000   \n",
       "\n",
       "            Alcohol        Income         Hiv2        Agelog  \n",
       "count  23662.000000  32721.000000  3560.000000  66990.000000  \n",
       "mean       2.852675      6.644662     0.004494      3.375587  \n",
       "std        2.641590      3.243460     0.066899      0.734752  \n",
       "min        1.000000      1.000000     0.000000      1.791759  \n",
       "25%        1.000000      4.000000     0.000000      2.772589  \n",
       "50%        2.000000      6.000000     0.000000      3.496508  \n",
       "75%        3.000000      9.000000     0.000000      4.025352  \n",
       "max       30.000000     12.000000     1.000000      4.442651  "
      ]
     },
     "execution_count": 292,
     "metadata": {},
     "output_type": "execute_result"
    }
   ],
   "source": [
    "#Remember to Recode names and remap values\n",
    "data2 = data.copy()\n",
    "data2['Hepb'] = data['Hepb'].map({2.0 : 0.0, 1.0 : 1.0})\n",
    "data2['Hiv2'] = data['Hiv2'].map({2.0 : 0.0, 1.0 : 1.0})\n",
    "data2['Hiv'] = data['Hiv'].map({2.0 : 0.0, 1.0 : 1.0, 3.0 : 0.0})\n",
    "data2.loc[data2[\"Alcohol\"] > 30, \"Alcohol\"] = math.nan\n",
    "data2.loc[data2[\"Income\"] > 15, \"Income\"] = math.nan\n",
    "data2['Agelog'] = np.log(data2['Age'])\n",
    "data2.describe()\n",
    "\n"
   ]
  },
  {
   "cell_type": "code",
   "execution_count": 293,
   "metadata": {},
   "outputs": [
    {
     "data": {
      "image/png": "[encoded data removed]",
      "text/plain": [
       "<Figure size 1728x864 with 1 Axes>"
      ]
     },
     "metadata": {
      "needs_background": "light"
     },
     "output_type": "display_data"
    }
   ],
   "source": [
    "plt.figure(1, figsize=(24, 12))\n",
    "sns.distplot(data2['Agelog'])\n",
    "plt.xticks(np.arange(1, 5, 0.2))\n",
    "a = 1"
   ]
  },
  {
   "cell_type": "code",
   "execution_count": null,
   "metadata": {
    "colab": {
     "base_uri": "https://localhost:8080/",
     "height": 180
    },
    "colab_type": "code",
    "id": "AV-kFZ9eQ6rH",
    "outputId": "e7455936-d2f2-487f-83b5-4ba9da47a3af"
   },
   "outputs": [],
   "source": [
    "#dropping unnecessary variables (don't worry about this)\n",
    "data = dataset[data.columns.drop(list(data.filter(regex='WT')))]\n",
    "data = dataset[data.columns.drop(list(data.filter(regex='SDM')))]"
   ]
  },
  {
   "cell_type": "markdown",
   "metadata": {
    "colab_type": "text",
    "id": "pMQlv34tQ6rM"
   },
   "source": [
    "Awesome, looks like the data loaded in properly. Let's continue by looking at variables that may be predictive of hepatitis B. For beginners, I would suggest conducting a literature review on previous research of hepatitis B."
   ]
  },
  {
   "cell_type": "markdown",
   "metadata": {
    "colab_type": "text",
    "id": "9R_fReGRQ6rN"
   },
   "source": [
    "## Select Features of Interest\n",
    "Once you have selected some variables in the NHANES data set only looking at what you are interested in. It is in your best interest to rename the variables."
   ]
  },
  {
   "cell_type": "code",
   "execution_count": 294,
   "metadata": {
    "colab": {},
    "colab_type": "code",
    "id": "PixvFpLGQ6rO"
   },
   "outputs": [],
   "source": [
    "# Write your code here\n",
    "import math\n",
    "#data3 = data2.drop(columns=['Jaundice'])\n",
    "take_val = lambda a, b: a if math.isnan(b) else b\n",
    "data2[\"Hiv\"] = data2[\"Hiv\"].combine(data2[\"Hiv2\"], take_val)\n",
    "data2 = data2.drop(columns=['Hiv2'])\n",
    "# create a subset of the data you want to analyze\n",
    "\n",
    "# rename the variables"
   ]
  },
  {
   "cell_type": "markdown",
   "metadata": {
    "colab_type": "text",
    "id": "EgBfUbAaQ6rR"
   },
   "source": [
    "Remember the goal is to create a balanced model that can predict with a high sensitivity and high specificity while using the **least amount of features**. Next, we will look at some summary statistics of the variables you chose."
   ]
  },
  {
   "cell_type": "markdown",
   "metadata": {
    "colab_type": "text",
    "id": "zekCYBu_Q6rS"
   },
   "source": [
    "## View summary statistics\n",
    "Some useful functions in pandas are describe() and info()"
   ]
  },
  {
   "cell_type": "code",
   "execution_count": 295,
   "metadata": {
    "colab": {},
    "colab_type": "code",
    "id": "1o8Aaj3QQ6rT"
   },
   "outputs": [
    {
     "data": {
      "text/html": [
       "<div>\n",
       "<style scoped>\n",
       "    .dataframe tbody tr th:only-of-type {\n",
       "        vertical-align: middle;\n",
       "    }\n",
       "\n",
       "    .dataframe tbody tr th {\n",
       "        vertical-align: top;\n",
       "    }\n",
       "\n",
       "    .dataframe thead th {\n",
       "        text-align: right;\n",
       "    }\n",
       "</style>\n",
       "<table border=\"1\" class=\"dataframe\">\n",
       "  <thead>\n",
       "    <tr style=\"text-align: right;\">\n",
       "      <th></th>\n",
       "      <th>Sex</th>\n",
       "      <th>Age</th>\n",
       "      <th>Ethnicity</th>\n",
       "      <th>Hiv</th>\n",
       "      <th>Hepb</th>\n",
       "      <th>Alcohol</th>\n",
       "      <th>Income</th>\n",
       "      <th>Agelog</th>\n",
       "    </tr>\n",
       "  </thead>\n",
       "  <tbody>\n",
       "    <tr>\n",
       "      <th>count</th>\n",
       "      <td>7968.000000</td>\n",
       "      <td>7968.000000</td>\n",
       "      <td>7968.000000</td>\n",
       "      <td>7968.000000</td>\n",
       "      <td>7968.000000</td>\n",
       "      <td>7968.000000</td>\n",
       "      <td>7968.000000</td>\n",
       "      <td>7968.000000</td>\n",
       "    </tr>\n",
       "    <tr>\n",
       "      <th>mean</th>\n",
       "      <td>1.473268</td>\n",
       "      <td>37.004016</td>\n",
       "      <td>2.967997</td>\n",
       "      <td>0.005899</td>\n",
       "      <td>0.047816</td>\n",
       "      <td>3.243850</td>\n",
       "      <td>6.861195</td>\n",
       "      <td>3.561970</td>\n",
       "    </tr>\n",
       "    <tr>\n",
       "      <th>std</th>\n",
       "      <td>0.499316</td>\n",
       "      <td>11.251553</td>\n",
       "      <td>1.161322</td>\n",
       "      <td>0.076580</td>\n",
       "      <td>0.213391</td>\n",
       "      <td>2.846634</td>\n",
       "      <td>3.355182</td>\n",
       "      <td>0.319100</td>\n",
       "    </tr>\n",
       "    <tr>\n",
       "      <th>min</th>\n",
       "      <td>1.000000</td>\n",
       "      <td>18.000000</td>\n",
       "      <td>1.000000</td>\n",
       "      <td>0.000000</td>\n",
       "      <td>0.000000</td>\n",
       "      <td>1.000000</td>\n",
       "      <td>1.000000</td>\n",
       "      <td>2.890372</td>\n",
       "    </tr>\n",
       "    <tr>\n",
       "      <th>25%</th>\n",
       "      <td>1.000000</td>\n",
       "      <td>27.000000</td>\n",
       "      <td>2.000000</td>\n",
       "      <td>0.000000</td>\n",
       "      <td>0.000000</td>\n",
       "      <td>1.000000</td>\n",
       "      <td>4.000000</td>\n",
       "      <td>3.295837</td>\n",
       "    </tr>\n",
       "    <tr>\n",
       "      <th>50%</th>\n",
       "      <td>1.000000</td>\n",
       "      <td>36.000000</td>\n",
       "      <td>3.000000</td>\n",
       "      <td>0.000000</td>\n",
       "      <td>0.000000</td>\n",
       "      <td>2.000000</td>\n",
       "      <td>7.000000</td>\n",
       "      <td>3.583519</td>\n",
       "    </tr>\n",
       "    <tr>\n",
       "      <th>75%</th>\n",
       "      <td>2.000000</td>\n",
       "      <td>46.000000</td>\n",
       "      <td>4.000000</td>\n",
       "      <td>0.000000</td>\n",
       "      <td>0.000000</td>\n",
       "      <td>4.000000</td>\n",
       "      <td>10.000000</td>\n",
       "      <td>3.828641</td>\n",
       "    </tr>\n",
       "    <tr>\n",
       "      <th>max</th>\n",
       "      <td>2.000000</td>\n",
       "      <td>59.000000</td>\n",
       "      <td>5.000000</td>\n",
       "      <td>1.000000</td>\n",
       "      <td>1.000000</td>\n",
       "      <td>30.000000</td>\n",
       "      <td>12.000000</td>\n",
       "      <td>4.077537</td>\n",
       "    </tr>\n",
       "  </tbody>\n",
       "</table>\n",
       "</div>"
      ],
      "text/plain": [
       "               Sex          Age    Ethnicity          Hiv         Hepb  \\\n",
       "count  7968.000000  7968.000000  7968.000000  7968.000000  7968.000000   \n",
       "mean      1.473268    37.004016     2.967997     0.005899     0.047816   \n",
       "std       0.499316    11.251553     1.161322     0.076580     0.213391   \n",
       "min       1.000000    18.000000     1.000000     0.000000     0.000000   \n",
       "25%       1.000000    27.000000     2.000000     0.000000     0.000000   \n",
       "50%       1.000000    36.000000     3.000000     0.000000     0.000000   \n",
       "75%       2.000000    46.000000     4.000000     0.000000     0.000000   \n",
       "max       2.000000    59.000000     5.000000     1.000000     1.000000   \n",
       "\n",
       "           Alcohol       Income       Agelog  \n",
       "count  7968.000000  7968.000000  7968.000000  \n",
       "mean      3.243850     6.861195     3.561970  \n",
       "std       2.846634     3.355182     0.319100  \n",
       "min       1.000000     1.000000     2.890372  \n",
       "25%       1.000000     4.000000     3.295837  \n",
       "50%       2.000000     7.000000     3.583519  \n",
       "75%       4.000000    10.000000     3.828641  \n",
       "max      30.000000    12.000000     4.077537  "
      ]
     },
     "execution_count": 295,
     "metadata": {},
     "output_type": "execute_result"
    }
   ],
   "source": [
    "# Write your code here\n",
    "data2.describe()\n",
    "data3 = data2.dropna()\n",
    "#sns.countplot(data3['Alcohol'])\n",
    "data3.describe()"
   ]
  },
  {
   "cell_type": "markdown",
   "metadata": {
    "colab_type": "text",
    "id": "8q0nrtyzQ6rW"
   },
   "source": [
    "Note the data types are float64, int64 or objects--if there are columns that are obviously numeric like Age but show as objects (or vice versa), we need to change."
   ]
  },
  {
   "cell_type": "markdown",
   "metadata": {
    "colab_type": "text",
    "id": "1OWJ3D9DQ6rY"
   },
   "source": [
    "## Data Cleaning\n",
    "\n",
    "Ensure that numeric and categorical variables are coded correctly (turn numeric from strings to numbers)."
   ]
  },
  {
   "cell_type": "code",
   "execution_count": 192,
   "metadata": {
    "colab": {},
    "colab_type": "code",
    "id": "8F8REAjTQ6rZ"
   },
   "outputs": [],
   "source": [
    "# Write your code here"
   ]
  },
  {
   "cell_type": "markdown",
   "metadata": {
    "colab_type": "text",
    "id": "RfOJQNAyQ6rg"
   },
   "source": [
    "Notice the counts for the columns are different because of missing values therefore you will have to figure out how to remediate that issue..some suggestions are found in https://scikit-learn.org/stable/modules/impute.html#impute"
   ]
  },
  {
   "cell_type": "code",
   "execution_count": 193,
   "metadata": {
    "colab": {},
    "colab_type": "code",
    "id": "p2BUhx_tQ6rh"
   },
   "outputs": [],
   "source": [
    "# Write your code here\n",
    "\n",
    "# remove, impute, some remedial procedure for NAs \n"
   ]
  },
  {
   "cell_type": "markdown",
   "metadata": {
    "colab_type": "text",
    "id": "rKUYamrbQ6rk"
   },
   "source": [
    "Lastly, we will convert HEP B into indicator variables"
   ]
  },
  {
   "cell_type": "code",
   "execution_count": 194,
   "metadata": {
    "colab": {},
    "colab_type": "code",
    "id": "MAH-17IgQ6rn"
   },
   "outputs": [],
   "source": [
    "# write your code here"
   ]
  },
  {
   "cell_type": "markdown",
   "metadata": {
    "colab_type": "text",
    "id": "3JFBXM6FQ6rq"
   },
   "source": [
    "## Data Analysis and Visualization\n",
    "\n",
    "Take a look at your data. I would suggest doing univariate, bivariate, and multi-variate analysis of most if not all the features you chose."
   ]
  },
  {
   "cell_type": "code",
   "execution_count": 195,
   "metadata": {
    "colab": {},
    "colab_type": "code",
    "id": "qkPqOHMHQ6rw"
   },
   "outputs": [],
   "source": [
    "# Write your code here"
   ]
  },
  {
   "cell_type": "markdown",
   "metadata": {
    "colab_type": "text",
    "id": "fLeYcXq9Q6rz"
   },
   "source": [
    "## Preprocessing data"
   ]
  },
  {
   "cell_type": "markdown",
   "metadata": {
    "colab_type": "text",
    "id": "7L6bz_PHQ6r2"
   },
   "source": [
    "Before we begin to implement a model, we need to prepare the variables that will be used. At this step we convert categorical variables into dummy\\indicator variables (https://chrisalbon.com/python/data_wrangling/pandas_convert_categorical_to_dummies/). Additionally, you'll have to normalize and transform variables if necessary."
   ]
  },
  {
   "cell_type": "code",
   "execution_count": 196,
   "metadata": {
    "colab": {},
    "colab_type": "code",
    "id": "5xbfe62ZQ6r3"
   },
   "outputs": [],
   "source": [
    "# Write your code here"
   ]
  },
  {
   "cell_type": "markdown",
   "metadata": {
    "colab_type": "text",
    "id": "tip3FqeNQ6r6"
   },
   "source": [
    "## Model training and selection\n",
    "Now, let's split our data into training and testing in an 80-20 split, stratified by HEPB distribution (this tries to keep the HEPB distribution approximately equal for the training and test set). For consistency, let's use a random seed 0."
   ]
  },
  {
   "cell_type": "code",
   "execution_count": 315,
   "metadata": {
    "colab": {},
    "colab_type": "code",
    "id": "FW0bZW4hQ6r7"
   },
   "outputs": [
    {
     "data": {
      "text/html": [
       "<div>\n",
       "<style scoped>\n",
       "    .dataframe tbody tr th:only-of-type {\n",
       "        vertical-align: middle;\n",
       "    }\n",
       "\n",
       "    .dataframe tbody tr th {\n",
       "        vertical-align: top;\n",
       "    }\n",
       "\n",
       "    .dataframe thead th {\n",
       "        text-align: right;\n",
       "    }\n",
       "</style>\n",
       "<table border=\"1\" class=\"dataframe\">\n",
       "  <thead>\n",
       "    <tr style=\"text-align: right;\">\n",
       "      <th></th>\n",
       "      <th>Sex</th>\n",
       "      <th>Age</th>\n",
       "      <th>Ethnicity</th>\n",
       "      <th>Hiv</th>\n",
       "      <th>Hepb</th>\n",
       "      <th>Alcohol</th>\n",
       "      <th>Income</th>\n",
       "      <th>Agelog</th>\n",
       "    </tr>\n",
       "  </thead>\n",
       "  <tbody>\n",
       "    <tr>\n",
       "      <th>count</th>\n",
       "      <td>7968.000000</td>\n",
       "      <td>7968.000000</td>\n",
       "      <td>7968.000000</td>\n",
       "      <td>7968.000000</td>\n",
       "      <td>7968.000000</td>\n",
       "      <td>7968.000000</td>\n",
       "      <td>7968.000000</td>\n",
       "      <td>7968.000000</td>\n",
       "    </tr>\n",
       "    <tr>\n",
       "      <th>mean</th>\n",
       "      <td>1.473268</td>\n",
       "      <td>37.004016</td>\n",
       "      <td>2.967997</td>\n",
       "      <td>0.005899</td>\n",
       "      <td>0.047816</td>\n",
       "      <td>3.243850</td>\n",
       "      <td>6.861195</td>\n",
       "      <td>3.561970</td>\n",
       "    </tr>\n",
       "    <tr>\n",
       "      <th>std</th>\n",
       "      <td>0.499316</td>\n",
       "      <td>11.251553</td>\n",
       "      <td>1.161322</td>\n",
       "      <td>0.076580</td>\n",
       "      <td>0.213391</td>\n",
       "      <td>2.846634</td>\n",
       "      <td>3.355182</td>\n",
       "      <td>0.319100</td>\n",
       "    </tr>\n",
       "    <tr>\n",
       "      <th>min</th>\n",
       "      <td>1.000000</td>\n",
       "      <td>18.000000</td>\n",
       "      <td>1.000000</td>\n",
       "      <td>0.000000</td>\n",
       "      <td>0.000000</td>\n",
       "      <td>1.000000</td>\n",
       "      <td>1.000000</td>\n",
       "      <td>2.890372</td>\n",
       "    </tr>\n",
       "    <tr>\n",
       "      <th>25%</th>\n",
       "      <td>1.000000</td>\n",
       "      <td>27.000000</td>\n",
       "      <td>2.000000</td>\n",
       "      <td>0.000000</td>\n",
       "      <td>0.000000</td>\n",
       "      <td>1.000000</td>\n",
       "      <td>4.000000</td>\n",
       "      <td>3.295837</td>\n",
       "    </tr>\n",
       "    <tr>\n",
       "      <th>50%</th>\n",
       "      <td>1.000000</td>\n",
       "      <td>36.000000</td>\n",
       "      <td>3.000000</td>\n",
       "      <td>0.000000</td>\n",
       "      <td>0.000000</td>\n",
       "      <td>2.000000</td>\n",
       "      <td>7.000000</td>\n",
       "      <td>3.583519</td>\n",
       "    </tr>\n",
       "    <tr>\n",
       "      <th>75%</th>\n",
       "      <td>2.000000</td>\n",
       "      <td>46.000000</td>\n",
       "      <td>4.000000</td>\n",
       "      <td>0.000000</td>\n",
       "      <td>0.000000</td>\n",
       "      <td>4.000000</td>\n",
       "      <td>10.000000</td>\n",
       "      <td>3.828641</td>\n",
       "    </tr>\n",
       "    <tr>\n",
       "      <th>max</th>\n",
       "      <td>2.000000</td>\n",
       "      <td>59.000000</td>\n",
       "      <td>5.000000</td>\n",
       "      <td>1.000000</td>\n",
       "      <td>1.000000</td>\n",
       "      <td>30.000000</td>\n",
       "      <td>12.000000</td>\n",
       "      <td>4.077537</td>\n",
       "    </tr>\n",
       "  </tbody>\n",
       "</table>\n",
       "</div>"
      ],
      "text/plain": [
       "               Sex          Age    Ethnicity          Hiv         Hepb  \\\n",
       "count  7968.000000  7968.000000  7968.000000  7968.000000  7968.000000   \n",
       "mean      1.473268    37.004016     2.967997     0.005899     0.047816   \n",
       "std       0.499316    11.251553     1.161322     0.076580     0.213391   \n",
       "min       1.000000    18.000000     1.000000     0.000000     0.000000   \n",
       "25%       1.000000    27.000000     2.000000     0.000000     0.000000   \n",
       "50%       1.000000    36.000000     3.000000     0.000000     0.000000   \n",
       "75%       2.000000    46.000000     4.000000     0.000000     0.000000   \n",
       "max       2.000000    59.000000     5.000000     1.000000     1.000000   \n",
       "\n",
       "           Alcohol       Income       Agelog  \n",
       "count  7968.000000  7968.000000  7968.000000  \n",
       "mean      3.243850     6.861195     3.561970  \n",
       "std       2.846634     3.355182     0.319100  \n",
       "min       1.000000     1.000000     2.890372  \n",
       "25%       1.000000     4.000000     3.295837  \n",
       "50%       2.000000     7.000000     3.583519  \n",
       "75%       4.000000    10.000000     3.828641  \n",
       "max      30.000000    12.000000     4.077537  "
      ]
     },
     "execution_count": 315,
     "metadata": {},
     "output_type": "execute_result"
    }
   ],
   "source": [
    "# Write your code here\n",
    "\n",
    "from sklearn.model_selection import train_test_split\n",
    "from sklearn.impute import SimpleImputer\n",
    "\n",
    "#data_train, data_val = train_test_split(data2, test_size = 0.20, random_state = 0, stratify = data2['Hepb'])\n",
    "\n",
    "#data_train.describe()\n",
    "\n",
    "data3.describe()"
   ]
  },
  {
   "cell_type": "markdown",
   "metadata": {
    "colab_type": "text",
    "id": "WxyiThvSQ6sB"
   },
   "source": [
    "Now we can use our training data to create the model and  make predicitons with your test data."
   ]
  },
  {
   "cell_type": "code",
   "execution_count": 351,
   "metadata": {
    "colab": {},
    "colab_type": "code",
    "id": "7uOe_isfQ6sC"
   },
   "outputs": [
    {
     "name": "stderr",
     "output_type": "stream",
     "text": [
      "C:\\software\\Python36\\Anaconda3\\lib\\site-packages\\sklearn\\neural_network\\multilayer_perceptron.py:566: ConvergenceWarning: Stochastic Optimizer: Maximum iterations (200) reached and the optimization hasn't converged yet.\n",
      "  % self.max_iter, ConvergenceWarning)\n"
     ]
    }
   ],
   "source": [
    "#Write your code here\n",
    "\n",
    "from sklearn.linear_model import LogisticRegression\n",
    "from sklearn.neighbors import KNeighborsClassifier\n",
    "from sklearn.neural_network import MLPClassifier\n",
    "\n",
    "x_cols = [\"Ethnicity\", \"Agelog\", \"Sex\", \"Hiv\", \"Income\"] #\"Hiv\", \n",
    "\n",
    "y = data3[\"Hepb\"]\n",
    "\n",
    "X_train, X_test, y_train, y_test = train_test_split(data3[x_cols], y, random_state=0, stratify=data3[\"Hepb\"], test_size=0.4)\n",
    "\n",
    "from sklearn.linear_model import LogisticRegression\n",
    "\n",
    "\n",
    "model = MLPClassifier()\n",
    "trained = model.fit(X_train, y_train)"
   ]
  },
  {
   "cell_type": "markdown",
   "metadata": {
    "colab_type": "text",
    "id": "v-UpFAs_Q6sF"
   },
   "source": [
    "# Scoring Metrics\n",
    "## Confusion Matrix Metrics\n",
    "\n",
    "There are several useful metrics that are derived from the confusion matrix:\n",
    "\n",
    "![alt text](https://i.imgur.com/uipmEwt.png)\n",
    "\n",
    "* sensitivity, **recall**, hit rate, or true positive rate (TPR) : $ \\mathrm {TPR} ={\\frac {\\mathrm {TP} }{P}}={\\frac {\\mathrm {TP} }{\\mathrm {TP} +\\mathrm {FN} }}$\n",
    " \n",
    "* **precision** or positive predictive value (PPV) : $ \\mathrm {PPV} ={\\frac {\\mathrm {TP} }{\\mathrm {TP} +\\mathrm {FP} }}$\n",
    "\n",
    "* specificity or true negative rate (TNR) : $\\mathrm {TNR} ={\\frac {\\mathrm {TN} }{N}}={\\frac {\\mathrm {TN} }{\\mathrm {TN} +\\mathrm {FP} }}$\n",
    "\n",
    "* miss rate or false negative rate (FNR) : $ \\mathrm {FNR} ={\\frac {\\mathrm {FN} }{P}}={\\frac {\\mathrm {FN} }{\\mathrm {FN} +\\mathrm {TP} }}=1-\\mathrm {TPR}$\n",
    "\n",
    "* fall-out or false positive rate (FPR) : $\\mathrm {FPR} ={\\frac {\\mathrm {FP} }{N}}={\\frac {\\mathrm {FP} }{\\mathrm {FP} +\\mathrm {TN} }}=1-\\mathrm {TNR} $\n",
    "\n",
    "* accuracy (ACC) : $\\mathrm {ACC} ={\\frac {\\mathrm {TP} +\\mathrm {TN} }{P+N}}={\\frac {\\mathrm {TP} +\\mathrm {TN} }{\\mathrm {TP} +\\mathrm {TN} +\\mathrm {FP} +\\mathrm {FN} }}$\n",
    "\n",
    "Now use code below to calculate the confusion matrix."
   ]
  },
  {
   "cell_type": "code",
   "execution_count": 352,
   "metadata": {
    "colab": {},
    "colab_type": "code",
    "id": "SeDPiuXEQ6sG"
   },
   "outputs": [
    {
     "name": "stdout",
     "output_type": "stream",
     "text": [
      "[[3034    2]\n",
      " [ 151    1]]\n"
     ]
    }
   ],
   "source": [
    "# write your code here\n",
    "\n",
    "from sklearn import metrics\n",
    "from sklearn.metrics import confusion_matrix\n",
    "from sklearn.metrics import auc\n",
    "\n",
    "# apply the model to test data\n",
    "y_val_predict = model.predict(X_test)\n",
    "y_val_proba = model.predict_proba(X_test)\n",
    "\n",
    "def cm_metric(y_true,y_prob):\n",
    "    \n",
    "    # predict the class with the greatest probability\n",
    "    y_pred = [np.argmax(y) for y in y_prob]\n",
    "\n",
    "    # calculate the confusion matrix\n",
    "    cm = confusion_matrix(y_true, y_val_predict)\n",
    "\n",
    "    cm_norm = cm.astype('float') / cm.sum(axis=1)[:, np.newaxis]\n",
    "    #return sum(sum(np.multiply(cm_norm,np.array([[1, -2], [-2, 1]]))))\n",
    "    return(cm)\n",
    "print(cm_metric(y_test,y_val_proba))\n",
    "\n",
    "#print(y_test[:5],y_val_predict[:5])\n",
    "#print(X_train)"
   ]
  },
  {
   "cell_type": "markdown",
   "metadata": {
    "colab_type": "text",
    "id": "-51H5ga_Q6sJ"
   },
   "source": [
    "The model is classifying everything as class 1... Pretty terrible. :( Well maybe there's a threshold where this doesn't happen. Let's look at the AUC ROC.\n",
    "\n",
    "## AUC ROC\n",
    "\n",
    "A receiver operating characteristic (ROC) is a probability curve that plots the true positive rate (y) against the false positive rate (x) at many decision threshold settings. The area under the curve (AUC) represents a measure of separability or how much the model is capable of distinguishing between classes. An AUC closer to 1 is desirable as it shows the model is perfectly distinguishing between patients with disease and no disease. A poor model has an AUC $\\leq$ 0.50."
   ]
  },
  {
   "cell_type": "code",
   "execution_count": 353,
   "metadata": {
    "colab": {},
    "colab_type": "code",
    "id": "GgdQ64IpQ6sL"
   },
   "outputs": [
    {
     "name": "stdout",
     "output_type": "stream",
     "text": [
      "AUC:  0.7433766295679911\n"
     ]
    },
    {
     "data": {
      "image/png": "[encoded data removed]",
      "text/plain": [
       "<Figure size 432x288 with 1 Axes>"
      ]
     },
     "metadata": {
      "needs_background": "light"
     },
     "output_type": "display_data"
    }
   ],
   "source": [
    "#extract fpr and tpr to plot ROC curve and calculate AUC (Note: fpr-false positive rate and tpr -true positive rate)\n",
    "fpr, tpr, threshold = metrics.roc_curve(y_test, y_val_proba[:,1])\n",
    "\n",
    "roc_auc = metrics.auc(fpr, tpr)\n",
    "print('AUC: ',roc_auc)\n",
    "\n",
    "import matplotlib.pyplot as plt\n",
    "plt.title('Receiver Operating Characteristic')\n",
    "plt.plot(fpr, tpr, 'b', label = 'AUC = %0.3f' % roc_auc)\n",
    "plt.legend(loc = 'lower right')\n",
    "plt.plot([0, 1], [0, 1],'r--')\n",
    "plt.xlim([0, 1])\n",
    "plt.ylim([0, 1])\n",
    "plt.ylabel('True Positive Rate')\n",
    "plt.xlabel('False Positive Rate')\n",
    "plt.show()"
   ]
  },
  {
   "cell_type": "markdown",
   "metadata": {
    "colab_type": "text",
    "id": "EthgNLKrQ6sT"
   },
   "source": [
    "This model only looks at three possible features and leaves lots of room for improvement!  Try using more features, different models, and see if you can do anything about the data we threw out earlier."
   ]
  },
  {
   "cell_type": "markdown",
   "metadata": {
    "colab_type": "text",
    "id": "hsztJpykQ6sU"
   },
   "source": [
    "## Economic Cost\n",
    "Similar to the confusion matrix, we want you to keep in mind the other aspects of healthcare analytics--in this case, economic feasibility. In essence, we want you to minimize the amount of time and money spent on data collection by **reducing the number of features** collected. Each record certainly required a lot of time and money from several individuals and businesses to reliably create, and we hope you gain a better understanding of conducting a useful cost-benefit analysis with this scoring method.  This won't be evaluated quantitatively, but please consider discussing it for your presentation."
   ]
  },
  {
   "cell_type": "markdown",
   "metadata": {
    "colab_type": "text",
    "id": "fALE9f1cQ6sW"
   },
   "source": [
    "For your presentation on Friday, don't foget to mention why you selected the features you used, the model implemented, the scoring metrics mentioned above, and the limitations of your analysis."
   ]
  },
  {
   "cell_type": "markdown",
   "metadata": {
    "colab_type": "text",
    "id": "sjYS6ejgQ6sX"
   },
   "source": [
    "# Next steps\n",
    "For those that finish early, try different classification models such as decision trees, KNN, SVM etc. You can try tackling the multiclass classifier (predicting the different cases instead of simply negative or positive)!\n",
    "\n",
    "Given the rich data set provided feel free to study a research question of your interest. Have fun! (:"
   ]
  }
 ],
 "metadata": {
  "colab": {
   "name": "Challenge Problem Week 1-Student.ipynb",
   "provenance": [],
   "version": "0.3.2"
  },
  "kernelspec": {
   "display_name": "Python 3",
   "language": "python",
   "name": "python3"
  },
  "language_info": {
   "codemirror_mode": {
    "name": "ipython",
    "version": 3
   },
   "file_extension": ".py",
   "mimetype": "text/x-python",
   "name": "python",
   "nbconvert_exporter": "python",
   "pygments_lexer": "ipython3",
   "version": "3.6.8"
  }
 },
 "nbformat": 4,
 "nbformat_minor": 1
}
