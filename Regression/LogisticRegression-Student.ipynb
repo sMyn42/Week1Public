{
 "cells": [
  {
   "cell_type": "markdown",
   "metadata": {},
   "source": [
    "# Logistic Regression"
   ]
  },
  {
   "cell_type": "markdown",
   "metadata": {},
   "source": [
    "Very similar but unlike linear regression, logistic regression analysis is used for predicting the outcome of a categorical variable. The probabilities describing the possible outcomes of a single trial are modeled, as a function of the predictor variables, using a logistic function. Rather than modeling the probabilities directly, we model a function of the probabilities that is\n",
    "not restricted between 0 and 1. In particular, we model the log of the odds, rather than the actual\n",
    "probabilities. Remember the odds are defined to be the probability that the event occurs, divided by the\n",
    "probability that it does not occur.\n",
    "\n",
    "\n"
   ]
  },
  {
   "cell_type": "markdown",
   "metadata": {},
   "source": [
    "## Simple Logistic Regression"
   ]
  },
  {
   "cell_type": "markdown",
   "metadata": {},
   "source": [
    "The logistic regression model expresses the population proportion p of individuals with a given attribute (called the probability of success) as a function of a single predictor variable X. The model assumes that p is related to X through \n",
    "\n",
    "$$log(\\frac{p}{1-p})= \\beta_0 +\\beta_1X $$\n",
    "\n",
    "or its inverse\n",
    "\n",
    "$$p = \\frac{exp (\\beta_0+\\beta_1X)}{1+exp (\\beta_0 + \\beta_1X)}$$"
   ]
  },
  {
   "cell_type": "markdown",
   "metadata": {},
   "source": [
    "The odds of success are p/(1 − p). The logistic model assumes that the log-odds of success is linearly related\n",
    "to X. Graphs of the logistic model relating p to X are given below. \n",
    "\n",
    "\n",
    "![image](https://ars.els-cdn.com/content/image/3-s2.0-B9780124071971000041-gr004.jpg?_)\n"
   ]
  },
  {
   "cell_type": "markdown",
   "metadata": {},
   "source": [
    "## Example Problem"
   ]
  },
  {
   "cell_type": "markdown",
   "metadata": {},
   "source": [
    "Survival times are given for 30 patients who died from acute myelogenous leukaemia. Also measured was the patient's white blood cell count at the time of diagnosis. The patients were also factored into 2 groups according to the presence or absence of a morphologic characteristic of white blood cells. Patients termed AG positive were identified by the presence of Auer rods and/or significant granulation of the leukaemic cells in the bone marrow at the time of diagnosis. We are interested in modelling the probability p of surviving at least one year as a function of WBC and AG.\n"
   ]
  },
  {
   "cell_type": "code",
   "execution_count": null,
   "metadata": {},
   "outputs": [],
   "source": [
    "# Needed Libraries\n",
    "import pandas as pd\n",
    "import numpy as np\n",
    "import matplotlib as plt\n",
    "import math\n",
    "import seaborn as sns\n",
    "\n",
    "import os\n",
    "#Building path to repo, *only need to run once*\n",
    "! git clone https://github.com/bwsimedlytics/Week1Public\n",
    "os.chdir(\"./Week1Public\")"
   ]
  },
  {
   "cell_type": "markdown",
   "metadata": {},
   "source": [
    "#### Import Data - Leukdata.csv found in the Google Drive or Github"
   ]
  },
  {
   "cell_type": "code",
   "execution_count": null,
   "metadata": {},
   "outputs": [],
   "source": [
    "#importing data\n",
    "data = pd.read_csv(\"leukdata.csv\") "
   ]
  },
  {
   "cell_type": "markdown",
   "metadata": {},
   "source": [
    "Leukemia Data set\n",
    "\n",
    "Variables \n",
    "\n",
    "nres: number surviving at least one year  \n",
    "ag: 1 for AG+, 0 for AG-  \n",
    "wbc: white cell blood count   "
   ]
  },
  {
   "cell_type": "markdown",
   "metadata": {},
   "source": [
    "#### Summarize and visualize the data (univariate analysis first and then bivariate)"
   ]
  },
  {
   "cell_type": "code",
   "execution_count": null,
   "metadata": {},
   "outputs": [],
   "source": [
    "#Write your code here "
   ]
  },
  {
   "cell_type": "markdown",
   "metadata": {},
   "source": [
    "#### Which plot best potrays the need for logisitic regression over linear regression? \n"
   ]
  },
  {
   "cell_type": "markdown",
   "metadata": {},
   "source": [
    "#### Assess if variables need to be transformed or normalized. If so, change the variable(s).\n",
    "\n",
    "Notice from the univariate analysis above the skewness of the WBC distribution. Find a transformation of the WBC variable to achieve a normal distribution. Note that power transforms are a family of parametric, monotonic transformations that aim to transform data from any distribution to as close to a Gaussian/Normal distribution as possible in order to stabilize variance and minimize skewness. https://scikit-learn.org/stable/modules/preprocessing.html"
   ]
  },
  {
   "cell_type": "code",
   "execution_count": null,
   "metadata": {},
   "outputs": [],
   "source": [
    "#Write your code here"
   ]
  },
  {
   "cell_type": "markdown",
   "metadata": {},
   "source": [
    "Now that we have preprocessed the data, we can implement the model."
   ]
  },
  {
   "cell_type": "markdown",
   "metadata": {},
   "source": [
    "The model we are considering for this analyis is"
   ]
  },
  {
   "cell_type": "markdown",
   "metadata": {},
   "source": [
    "\n",
    "\n",
    "$$log(\\frac{p}{1-p})= \\beta_0 +\\beta_1log(WBC) + \\beta_2AG$$\n",
    " \n",
    "\n",
    "\n",
    "The model is best understood by separating the AG+ and AG− cases. For AG− individuals, AG=0 so the model reduces to\n",
    "\n",
    "$$log(\\frac{p}{1-p})= \\beta_0 +\\beta_1log(WBC) + \\beta_2*0 =  \\beta_0 +\\beta_1log(WBC)$$.\n",
    "\n",
    "##### What is the model for AG+ individuals (AG = 1)?\n",
    "\n",
    "$$log(\\frac{p}{1-p})= \\beta_0 +\\beta_1log(WBC) + \\beta_2*1 =  (\\beta_0+\\beta_2) +\\beta_1log(WBC)$$.\n",
    "\n",
    "The reduced or simple logisitic model is without AG and where the\n",
    "log odds of surviving at least one year is related to log(WBC) linearly. When $\\beta_2 = 0$ implies that\n",
    "AG level has no effect on the survival probability once log(WBC) has been accounted for.\n",
    "Including AG implies the log odds of surviving at least one year and log(WBC) are\n",
    "a linearly associated, with different slopes for the AG levels. \n",
    "$\\beta_0$ and $\\beta_0 + \\beta_2$ are the y-intercepts for\n",
    "the population logistic regression lines for AG− and AG+, respectively. Both\n",
    "prediction lines have a common slope, $\\beta_1$. The $\\beta_2$ estimate for the AG  is the\n",
    "difference between intercepts for the AG+ and AG− regression lines. The image below shows\n",
    " the assumed relationship for a given $\\beta_1$ < 0. The population regression\n",
    "lines are parallel on the logit scale only, and \n",
    "preserved on the probability scale."
   ]
  },
  {
   "cell_type": "markdown",
   "metadata": {},
   "source": [
    "<img src=\"https://github.com/bwsimedlytics/Week1Public/blob/master/logscale.png?raw=true\">"
   ]
  },
  {
   "cell_type": "markdown",
   "metadata": {},
   "source": [
    "#### Implementing model using statsmodels (http://www.statsmodels.org/stable/index.html)"
   ]
  },
  {
   "cell_type": "code",
   "execution_count": null,
   "metadata": {},
   "outputs": [],
   "source": [
    "#use statsmodels to run the model - YOU WILL EDIT THIS CODE by \n",
    "\n",
    "# Specify the column containing the variable you're trying to predict (datay) followed by the columns \n",
    "# that the model should use to make the prediction (datax), other columns must be dropped.\n",
    "\n",
    "import statsmodels.api as sm\n",
    "\n",
    "\n",
    "datax =\n",
    "datay =\n",
    "\n",
    "\n",
    "datax['intercept'] = 1.0 #manually add the intercept\n",
    "\n",
    "logit_model = sm.Logit(datay, datax)\n",
    "\n",
    "result = logit_model.fit()\n",
    "\n",
    "print(result.summary())"
   ]
  },
  {
   "cell_type": "markdown",
   "metadata": {},
   "source": [
    "Your model should be $$log(\\frac{p}{1-p})= 4.7909 - 0.9887log(WBC) + 2.5067AG$$"
   ]
  },
  {
   "cell_type": "markdown",
   "metadata": {},
   "source": [
    "#### How do you assess what features are significant in the model? What are those features?\n"
   ]
  },
  {
   "cell_type": "markdown",
   "metadata": {},
   "source": [
    "#### Replicate the plots in the figure above using the fitted values from results of the model you implemented above."
   ]
  },
  {
   "cell_type": "code",
   "execution_count": null,
   "metadata": {},
   "outputs": [],
   "source": [
    "# Write your code here"
   ]
  },
  {
   "cell_type": "markdown",
   "metadata": {},
   "source": [
    "# Odds ratio\n",
    "\n",
    "In statistics, the odds ratio (OR) is one of the primary ways to quantify the correlation between two binary variables.  The odds of an event happening is a positive number and can be calculated from the probability of an event given by the follwing formula: $Odds =\\frac{p}{1-p}$.\n",
    "\n",
    "We can calculate the odds ratio to measure the relative odds of outcome for patients who receive the treatment compared to patients who did not receive the treatment. Luckily it is easy to calculate ORs from the logisitic regression estimates."
   ]
  },
  {
   "cell_type": "markdown",
   "metadata": {},
   "source": [
    "#### Calculate the odds ratio and the corresponding 95% confidence interval using the output form model above. Interpret the OR for AG and log(WBC). \n",
    "Use the output from the model above. You should obtain the following:\n",
    "\n",
    "            \n",
    "ag:    OR=12.263847  95% CI (1.516927, 99.149123)   \n",
    "\n",
    "lwbc:   OR=0.372042  95% CI (0.144299, 0.959227) \n",
    "\n",
    "Regardless of log(WBC), the odds that AG+ patient lives\n",
    "at least one year is 12.26 times larger than the odds that an AG−\n",
    "patient lives at least one year.\n",
    "\n",
    "The odds of surviving at least one year is reduced by a factor of 3 for each unit\n",
    "increase of log(WBC)."
   ]
  },
  {
   "cell_type": "code",
   "execution_count": null,
   "metadata": {},
   "outputs": [],
   "source": [
    "# Write your code here"
   ]
  },
  {
   "cell_type": "markdown",
   "metadata": {},
   "source": [
    "Although we are not covering methods to assess model fitting you should be familiar with it. You don't have to do it for this simple problem but you will have to in your challenge problem.\n",
    "https://statisticalhorizons.com/wp-content/uploads/GOFForLogisticRegression-Paper.pdf This is a good source to reference, ignore the SAS programming language code."
   ]
  },
  {
   "cell_type": "markdown",
   "metadata": {},
   "source": [
    "Source: Feigl, P. & Zelen, M. (1965) Estimation of exponential survival probabilities with concomitant information. Biometrics 21, 826–838."
   ]
  }
 ],
 "metadata": {
  "kernelspec": {
   "display_name": "Python 3",
   "language": "python",
   "name": "python3"
  },
  "language_info": {
   "codemirror_mode": {
    "name": "ipython",
    "version": 3
   },
   "file_extension": ".py",
   "mimetype": "text/x-python",
   "name": "python",
   "nbconvert_exporter": "python",
   "pygments_lexer": "ipython3",
   "version": "3.7.3"
  }
 },
 "nbformat": 4,
 "nbformat_minor": 2
}
